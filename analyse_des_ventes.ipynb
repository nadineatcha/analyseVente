{
  "nbformat": 4,
  "nbformat_minor": 0,
  "metadata": {
    "colab": {
      "provenance": [],
      "include_colab_link": true
    },
    "kernelspec": {
      "name": "python3",
      "display_name": "Python 3"
    },
    "language_info": {
      "name": "python"
    }
  },
  "cells": [
    {
      "cell_type": "markdown",
      "metadata": {
        "id": "view-in-github",
        "colab_type": "text"
      },
      "source": [
        "<a href=\"https://colab.research.google.com/github/nadineatcha/analyseVente/blob/main/analyse_des_ventes.ipynb\" target=\"_parent\"><img src=\"https://colab.research.google.com/assets/colab-badge.svg\" alt=\"Open In Colab\"/></a>"
      ]
    },
    {
      "cell_type": "code",
      "execution_count": null,
      "metadata": {
        "colab": {
          "base_uri": "https://localhost:8080/"
        },
        "id": "uAdtKZ7jbzOQ",
        "outputId": "16ab5b0e-c45d-4c4e-dc6b-038359c754bf"
      },
      "outputs": [
        {
          "output_type": "stream",
          "name": "stdout",
          "text": [
            "--2024-01-13 10:57:22--  https://github.com/kevindegila/data-analyst/tree/main/datasets/SalesAnalysis/Sales_Data\n",
            "Resolving github.com (github.com)... 20.27.177.113\n",
            "Connecting to github.com (github.com)|20.27.177.113|:443... connected.\n",
            "HTTP request sent, awaiting response... 200 OK\n",
            "Length: 6543 (6.4K) [text/plain]\n",
            "Saving to: ‘Sales_Data’\n",
            "\n",
            "Sales_Data          100%[===================>]   6.39K  --.-KB/s    in 0s      \n",
            "\n",
            "2024-01-13 10:57:22 (27.2 MB/s) - ‘Sales_Data’ saved [6543/6543]\n",
            "\n",
            "--2024-01-13 10:57:22--  http://sales_data/\n",
            "Resolving sales_data (sales_data)... failed: Name or service not known.\n",
            "wget: unable to resolve host address ‘sales_data’\n",
            "FINISHED --2024-01-13 10:57:22--\n",
            "Total wall clock time: 0.5s\n",
            "Downloaded: 1 files, 6.4K in 0s (27.2 MB/s)\n"
          ]
        }
      ],
      "source": [
        "!wget https://github.com/kevindegila/data-analyst/tree/main/datasets/SalesAnalysis/Sales_Data sales_data"
      ]
    },
    {
      "cell_type": "code",
      "source": [
        "import pandas as pd"
      ],
      "metadata": {
        "id": "L03Vu2lDcDs3"
      },
      "execution_count": null,
      "outputs": []
    },
    {
      "cell_type": "code",
      "source": [
        "ventes = pd.read_csv(\"https://raw.githubusercontent.com/kevindegila/data-analyst/main/datasets/SalesAnalysis/Output/all_data.csv\")"
      ],
      "metadata": {
        "id": "9YIBYklgdYET"
      },
      "execution_count": null,
      "outputs": []
    },
    {
      "cell_type": "code",
      "source": [
        "ventes.head()"
      ],
      "metadata": {
        "colab": {
          "base_uri": "https://localhost:8080/",
          "height": 337
        },
        "id": "f-ugz6ELddim",
        "outputId": "f8003cc4-528e-479e-99df-b11ea43d72b8"
      },
      "execution_count": null,
      "outputs": [
        {
          "output_type": "execute_result",
          "data": {
            "text/plain": [
              "  Order ID                     Product Quantity Ordered Price Each  \\\n",
              "0   176558        USB-C Charging Cable                2      11.95   \n",
              "1      NaN                         NaN              NaN        NaN   \n",
              "2   176559  Bose SoundSport Headphones                1      99.99   \n",
              "3   176560                Google Phone                1        600   \n",
              "4   176560            Wired Headphones                1      11.99   \n",
              "\n",
              "       Order Date                      Purchase Address  \n",
              "0  04/19/19 08:46          917 1st St, Dallas, TX 75001  \n",
              "1             NaN                                   NaN  \n",
              "2  04/07/19 22:30     682 Chestnut St, Boston, MA 02215  \n",
              "3  04/12/19 14:38  669 Spruce St, Los Angeles, CA 90001  \n",
              "4  04/12/19 14:38  669 Spruce St, Los Angeles, CA 90001  "
            ],
            "text/html": [
              "\n",
              "  <div id=\"df-e15e7567-134e-4945-9793-875daa09aaab\">\n",
              "    <div class=\"colab-df-container\">\n",
              "      <div>\n",
              "<style scoped>\n",
              "    .dataframe tbody tr th:only-of-type {\n",
              "        vertical-align: middle;\n",
              "    }\n",
              "\n",
              "    .dataframe tbody tr th {\n",
              "        vertical-align: top;\n",
              "    }\n",
              "\n",
              "    .dataframe thead th {\n",
              "        text-align: right;\n",
              "    }\n",
              "</style>\n",
              "<table border=\"1\" class=\"dataframe\">\n",
              "  <thead>\n",
              "    <tr style=\"text-align: right;\">\n",
              "      <th></th>\n",
              "      <th>Order ID</th>\n",
              "      <th>Product</th>\n",
              "      <th>Quantity Ordered</th>\n",
              "      <th>Price Each</th>\n",
              "      <th>Order Date</th>\n",
              "      <th>Purchase Address</th>\n",
              "    </tr>\n",
              "  </thead>\n",
              "  <tbody>\n",
              "    <tr>\n",
              "      <th>0</th>\n",
              "      <td>176558</td>\n",
              "      <td>USB-C Charging Cable</td>\n",
              "      <td>2</td>\n",
              "      <td>11.95</td>\n",
              "      <td>04/19/19 08:46</td>\n",
              "      <td>917 1st St, Dallas, TX 75001</td>\n",
              "    </tr>\n",
              "    <tr>\n",
              "      <th>1</th>\n",
              "      <td>NaN</td>\n",
              "      <td>NaN</td>\n",
              "      <td>NaN</td>\n",
              "      <td>NaN</td>\n",
              "      <td>NaN</td>\n",
              "      <td>NaN</td>\n",
              "    </tr>\n",
              "    <tr>\n",
              "      <th>2</th>\n",
              "      <td>176559</td>\n",
              "      <td>Bose SoundSport Headphones</td>\n",
              "      <td>1</td>\n",
              "      <td>99.99</td>\n",
              "      <td>04/07/19 22:30</td>\n",
              "      <td>682 Chestnut St, Boston, MA 02215</td>\n",
              "    </tr>\n",
              "    <tr>\n",
              "      <th>3</th>\n",
              "      <td>176560</td>\n",
              "      <td>Google Phone</td>\n",
              "      <td>1</td>\n",
              "      <td>600</td>\n",
              "      <td>04/12/19 14:38</td>\n",
              "      <td>669 Spruce St, Los Angeles, CA 90001</td>\n",
              "    </tr>\n",
              "    <tr>\n",
              "      <th>4</th>\n",
              "      <td>176560</td>\n",
              "      <td>Wired Headphones</td>\n",
              "      <td>1</td>\n",
              "      <td>11.99</td>\n",
              "      <td>04/12/19 14:38</td>\n",
              "      <td>669 Spruce St, Los Angeles, CA 90001</td>\n",
              "    </tr>\n",
              "  </tbody>\n",
              "</table>\n",
              "</div>\n",
              "      <button class=\"colab-df-convert\" onclick=\"convertToInteractive('df-e15e7567-134e-4945-9793-875daa09aaab')\"\n",
              "              title=\"Convert this dataframe to an interactive table.\"\n",
              "              style=\"display:none;\">\n",
              "        \n",
              "  <svg xmlns=\"http://www.w3.org/2000/svg\" height=\"24px\"viewBox=\"0 0 24 24\"\n",
              "       width=\"24px\">\n",
              "    <path d=\"M0 0h24v24H0V0z\" fill=\"none\"/>\n",
              "    <path d=\"M18.56 5.44l.94 2.06.94-2.06 2.06-.94-2.06-.94-.94-2.06-.94 2.06-2.06.94zm-11 1L8.5 8.5l.94-2.06 2.06-.94-2.06-.94L8.5 2.5l-.94 2.06-2.06.94zm10 10l.94 2.06.94-2.06 2.06-.94-2.06-.94-.94-2.06-.94 2.06-2.06.94z\"/><path d=\"M17.41 7.96l-1.37-1.37c-.4-.4-.92-.59-1.43-.59-.52 0-1.04.2-1.43.59L10.3 9.45l-7.72 7.72c-.78.78-.78 2.05 0 2.83L4 21.41c.39.39.9.59 1.41.59.51 0 1.02-.2 1.41-.59l7.78-7.78 2.81-2.81c.8-.78.8-2.07 0-2.86zM5.41 20L4 18.59l7.72-7.72 1.47 1.35L5.41 20z\"/>\n",
              "  </svg>\n",
              "      </button>\n",
              "      \n",
              "  <style>\n",
              "    .colab-df-container {\n",
              "      display:flex;\n",
              "      flex-wrap:wrap;\n",
              "      gap: 12px;\n",
              "    }\n",
              "\n",
              "    .colab-df-convert {\n",
              "      background-color: #E8F0FE;\n",
              "      border: none;\n",
              "      border-radius: 50%;\n",
              "      cursor: pointer;\n",
              "      display: none;\n",
              "      fill: #1967D2;\n",
              "      height: 32px;\n",
              "      padding: 0 0 0 0;\n",
              "      width: 32px;\n",
              "    }\n",
              "\n",
              "    .colab-df-convert:hover {\n",
              "      background-color: #E2EBFA;\n",
              "      box-shadow: 0px 1px 2px rgba(60, 64, 67, 0.3), 0px 1px 3px 1px rgba(60, 64, 67, 0.15);\n",
              "      fill: #174EA6;\n",
              "    }\n",
              "\n",
              "    [theme=dark] .colab-df-convert {\n",
              "      background-color: #3B4455;\n",
              "      fill: #D2E3FC;\n",
              "    }\n",
              "\n",
              "    [theme=dark] .colab-df-convert:hover {\n",
              "      background-color: #434B5C;\n",
              "      box-shadow: 0px 1px 3px 1px rgba(0, 0, 0, 0.15);\n",
              "      filter: drop-shadow(0px 1px 2px rgba(0, 0, 0, 0.3));\n",
              "      fill: #FFFFFF;\n",
              "    }\n",
              "  </style>\n",
              "\n",
              "      <script>\n",
              "        const buttonEl =\n",
              "          document.querySelector('#df-e15e7567-134e-4945-9793-875daa09aaab button.colab-df-convert');\n",
              "        buttonEl.style.display =\n",
              "          google.colab.kernel.accessAllowed ? 'block' : 'none';\n",
              "\n",
              "        async function convertToInteractive(key) {\n",
              "          const element = document.querySelector('#df-e15e7567-134e-4945-9793-875daa09aaab');\n",
              "          const dataTable =\n",
              "            await google.colab.kernel.invokeFunction('convertToInteractive',\n",
              "                                                     [key], {});\n",
              "          if (!dataTable) return;\n",
              "\n",
              "          const docLinkHtml = 'Like what you see? Visit the ' +\n",
              "            '<a target=\"_blank\" href=https://colab.research.google.com/notebooks/data_table.ipynb>data table notebook</a>'\n",
              "            + ' to learn more about interactive tables.';\n",
              "          element.innerHTML = '';\n",
              "          dataTable['output_type'] = 'display_data';\n",
              "          await google.colab.output.renderOutput(dataTable, element);\n",
              "          const docLink = document.createElement('div');\n",
              "          docLink.innerHTML = docLinkHtml;\n",
              "          element.appendChild(docLink);\n",
              "        }\n",
              "      </script>\n",
              "    </div>\n",
              "  </div>\n",
              "  "
            ]
          },
          "metadata": {},
          "execution_count": 6
        }
      ]
    },
    {
      "cell_type": "code",
      "source": [
        "print(ventes['Purchase Address'].unique())"
      ],
      "metadata": {
        "colab": {
          "base_uri": "https://localhost:8080/"
        },
        "id": "KW-Eus-AgCWT",
        "outputId": "fa250fbf-aa07-4de1-85ac-0ff3e20b8b94"
      },
      "execution_count": null,
      "outputs": [
        {
          "output_type": "stream",
          "name": "stdout",
          "text": [
            "['917 1st St, Dallas, TX 75001' nan '682 Chestnut St, Boston, MA 02215'\n",
            " ... '981 4th St, New York City, NY 10001'\n",
            " '840 Highland St, Los Angeles, CA 90001'\n",
            " '220 12th St, San Francisco, CA 94016']\n"
          ]
        }
      ]
    },
    {
      "cell_type": "code",
      "source": [
        "pd.set_option('display.max_rows', 500)"
      ],
      "metadata": {
        "id": "2dEd_J7Udx4m"
      },
      "execution_count": null,
      "outputs": []
    },
    {
      "cell_type": "code",
      "source": [
        "ventes['Purchase Address'].value_counts()"
      ],
      "metadata": {
        "colab": {
          "base_uri": "https://localhost:8080/"
        },
        "id": "0OmzjDMGgZUZ",
        "outputId": "b8f4b3ea-2354-4439-9fb7-1c066260feef"
      },
      "execution_count": null,
      "outputs": [
        {
          "output_type": "execute_result",
          "data": {
            "text/plain": [
              "Purchase Address                          355\n",
              "193 Forest St, San Francisco, CA 94016      9\n",
              "223 Elm St, Los Angeles, CA 90001           8\n",
              "279 Sunset St, San Francisco, CA 94016      8\n",
              "197 Center St, San Francisco, CA 94016      7\n",
              "                                         ... \n",
              "414 Sunset St, Los Angeles, CA 90001        1\n",
              "191 Wilson St, Atlanta, GA 30301            1\n",
              "359 Meadow St, New York City, NY 10001      1\n",
              "703 Highland St, Dallas, TX 75001           1\n",
              "220 12th St, San Francisco, CA 94016        1\n",
              "Name: Purchase Address, Length: 140788, dtype: int64"
            ]
          },
          "metadata": {},
          "execution_count": 11
        }
      ]
    },
    {
      "cell_type": "code",
      "source": [
        "\"Elm St, Los Angeles, CA 90001\".split(\", \")[1]"
      ],
      "metadata": {
        "colab": {
          "base_uri": "https://localhost:8080/",
          "height": 35
        },
        "id": "dy4vWHyigmfL",
        "outputId": "052a5590-f7ad-4fa3-9065-c93ace724490"
      },
      "execution_count": null,
      "outputs": [
        {
          "output_type": "execute_result",
          "data": {
            "text/plain": [
              "'Los Angeles'"
            ],
            "application/vnd.google.colaboratory.intrinsic+json": {
              "type": "string"
            }
          },
          "metadata": {},
          "execution_count": 25
        }
      ]
    },
    {
      "cell_type": "code",
      "source": [
        "def ville(adress):\n",
        "  return adress.split(',')[1].strip()"
      ],
      "metadata": {
        "id": "wPs_Z4PZhoBr"
      },
      "execution_count": null,
      "outputs": []
    },
    {
      "cell_type": "code",
      "source": [
        "ville(\"Meadow St,                                New York City,NY 10001\")"
      ],
      "metadata": {
        "colab": {
          "base_uri": "https://localhost:8080/",
          "height": 35
        },
        "id": "NBAhrLc9hvEP",
        "outputId": "08990672-72ec-496c-913b-8cfcb879ac87"
      },
      "execution_count": null,
      "outputs": [
        {
          "output_type": "execute_result",
          "data": {
            "text/plain": [
              "'New York City'"
            ],
            "application/vnd.google.colaboratory.intrinsic+json": {
              "type": "string"
            }
          },
          "metadata": {},
          "execution_count": 43
        }
      ]
    },
    {
      "cell_type": "code",
      "source": [
        "\"              sbvdsfbdsfbgdfsbgdfgbdfb         \".strip()"
      ],
      "metadata": {
        "colab": {
          "base_uri": "https://localhost:8080/",
          "height": 35
        },
        "id": "PE0qndhxpMKk",
        "outputId": "e8ef9553-d313-476b-a4e4-54da26b5c3b5"
      },
      "execution_count": null,
      "outputs": [
        {
          "output_type": "execute_result",
          "data": {
            "text/plain": [
              "'sbvdsfbdsfbgdfsbgdfgbdfb'"
            ],
            "application/vnd.google.colaboratory.intrinsic+json": {
              "type": "string"
            }
          },
          "metadata": {},
          "execution_count": 41
        }
      ]
    },
    {
      "cell_type": "code",
      "source": [
        "ventes['Purchase Address']"
      ],
      "metadata": {
        "colab": {
          "base_uri": "https://localhost:8080/"
        },
        "id": "0RIa6M1rk8-f",
        "outputId": "61486b25-5d3a-4c49-bd8b-4c9d9c639018"
      },
      "execution_count": null,
      "outputs": [
        {
          "output_type": "execute_result",
          "data": {
            "text/plain": [
              "0                    917 1st St, Dallas, TX 75001\n",
              "1                                             NaN\n",
              "2               682 Chestnut St, Boston, MA 02215\n",
              "3            669 Spruce St, Los Angeles, CA 90001\n",
              "4            669 Spruce St, Los Angeles, CA 90001\n",
              "                           ...                   \n",
              "186845     840 Highland St, Los Angeles, CA 90001\n",
              "186846    216 Dogwood St, San Francisco, CA 94016\n",
              "186847       220 12th St, San Francisco, CA 94016\n",
              "186848     511 Forest St, San Francisco, CA 94016\n",
              "186849     250 Meadow St, San Francisco, CA 94016\n",
              "Name: Purchase Address, Length: 186850, dtype: object"
            ]
          },
          "metadata": {},
          "execution_count": 26
        }
      ]
    },
    {
      "cell_type": "code",
      "source": [
        "ventes['Purchase Address'].apply(ville)  # appliquer la fonction ville à chaque ligne de la colonnes"
      ],
      "metadata": {
        "colab": {
          "base_uri": "https://localhost:8080/",
          "height": 277
        },
        "id": "rSlO8xWTk9H7",
        "outputId": "57b5787a-7ed7-412f-caa7-cac158b52958"
      },
      "execution_count": null,
      "outputs": [
        {
          "output_type": "error",
          "ename": "AttributeError",
          "evalue": "ignored",
          "traceback": [
            "\u001b[0;31m---------------------------------------------------------------------------\u001b[0m",
            "\u001b[0;31mAttributeError\u001b[0m                            Traceback (most recent call last)",
            "\u001b[0;32m<ipython-input-27-e5b1eae902c3>\u001b[0m in \u001b[0;36m<module>\u001b[0;34m\u001b[0m\n\u001b[0;32m----> 1\u001b[0;31m \u001b[0mventes\u001b[0m\u001b[0;34m[\u001b[0m\u001b[0;34m'Purchase Address'\u001b[0m\u001b[0;34m]\u001b[0m\u001b[0;34m.\u001b[0m\u001b[0mapply\u001b[0m\u001b[0;34m(\u001b[0m\u001b[0mville\u001b[0m\u001b[0;34m)\u001b[0m  \u001b[0;31m# appliquer la fonction ville à chaque ligne de la colonnes\u001b[0m\u001b[0;34m\u001b[0m\u001b[0;34m\u001b[0m\u001b[0m\n\u001b[0m",
            "\u001b[0;32m/usr/local/lib/python3.9/dist-packages/pandas/core/series.py\u001b[0m in \u001b[0;36mapply\u001b[0;34m(self, func, convert_dtype, args, **kwargs)\u001b[0m\n\u001b[1;32m   4431\u001b[0m         \u001b[0mdtype\u001b[0m\u001b[0;34m:\u001b[0m \u001b[0mfloat64\u001b[0m\u001b[0;34m\u001b[0m\u001b[0;34m\u001b[0m\u001b[0m\n\u001b[1;32m   4432\u001b[0m         \"\"\"\n\u001b[0;32m-> 4433\u001b[0;31m         \u001b[0;32mreturn\u001b[0m \u001b[0mSeriesApply\u001b[0m\u001b[0;34m(\u001b[0m\u001b[0mself\u001b[0m\u001b[0;34m,\u001b[0m \u001b[0mfunc\u001b[0m\u001b[0;34m,\u001b[0m \u001b[0mconvert_dtype\u001b[0m\u001b[0;34m,\u001b[0m \u001b[0margs\u001b[0m\u001b[0;34m,\u001b[0m \u001b[0mkwargs\u001b[0m\u001b[0;34m)\u001b[0m\u001b[0;34m.\u001b[0m\u001b[0mapply\u001b[0m\u001b[0;34m(\u001b[0m\u001b[0;34m)\u001b[0m\u001b[0;34m\u001b[0m\u001b[0;34m\u001b[0m\u001b[0m\n\u001b[0m\u001b[1;32m   4434\u001b[0m \u001b[0;34m\u001b[0m\u001b[0m\n\u001b[1;32m   4435\u001b[0m     def _reduce(\n",
            "\u001b[0;32m/usr/local/lib/python3.9/dist-packages/pandas/core/apply.py\u001b[0m in \u001b[0;36mapply\u001b[0;34m(self)\u001b[0m\n\u001b[1;32m   1086\u001b[0m             \u001b[0;32mreturn\u001b[0m \u001b[0mself\u001b[0m\u001b[0;34m.\u001b[0m\u001b[0mapply_str\u001b[0m\u001b[0;34m(\u001b[0m\u001b[0;34m)\u001b[0m\u001b[0;34m\u001b[0m\u001b[0;34m\u001b[0m\u001b[0m\n\u001b[1;32m   1087\u001b[0m \u001b[0;34m\u001b[0m\u001b[0m\n\u001b[0;32m-> 1088\u001b[0;31m         \u001b[0;32mreturn\u001b[0m \u001b[0mself\u001b[0m\u001b[0;34m.\u001b[0m\u001b[0mapply_standard\u001b[0m\u001b[0;34m(\u001b[0m\u001b[0;34m)\u001b[0m\u001b[0;34m\u001b[0m\u001b[0;34m\u001b[0m\u001b[0m\n\u001b[0m\u001b[1;32m   1089\u001b[0m \u001b[0;34m\u001b[0m\u001b[0m\n\u001b[1;32m   1090\u001b[0m     \u001b[0;32mdef\u001b[0m \u001b[0magg\u001b[0m\u001b[0;34m(\u001b[0m\u001b[0mself\u001b[0m\u001b[0;34m)\u001b[0m\u001b[0;34m:\u001b[0m\u001b[0;34m\u001b[0m\u001b[0;34m\u001b[0m\u001b[0m\n",
            "\u001b[0;32m/usr/local/lib/python3.9/dist-packages/pandas/core/apply.py\u001b[0m in \u001b[0;36mapply_standard\u001b[0;34m(self)\u001b[0m\n\u001b[1;32m   1141\u001b[0m                 \u001b[0;31m# List[Union[Callable[..., Any], str]]]]]\"; expected\u001b[0m\u001b[0;34m\u001b[0m\u001b[0;34m\u001b[0m\u001b[0m\n\u001b[1;32m   1142\u001b[0m                 \u001b[0;31m# \"Callable[[Any], Any]\"\u001b[0m\u001b[0;34m\u001b[0m\u001b[0;34m\u001b[0m\u001b[0m\n\u001b[0;32m-> 1143\u001b[0;31m                 mapped = lib.map_infer(\n\u001b[0m\u001b[1;32m   1144\u001b[0m                     \u001b[0mvalues\u001b[0m\u001b[0;34m,\u001b[0m\u001b[0;34m\u001b[0m\u001b[0;34m\u001b[0m\u001b[0m\n\u001b[1;32m   1145\u001b[0m                     \u001b[0mf\u001b[0m\u001b[0;34m,\u001b[0m  \u001b[0;31m# type: ignore[arg-type]\u001b[0m\u001b[0;34m\u001b[0m\u001b[0;34m\u001b[0m\u001b[0m\n",
            "\u001b[0;32m/usr/local/lib/python3.9/dist-packages/pandas/_libs/lib.pyx\u001b[0m in \u001b[0;36mpandas._libs.lib.map_infer\u001b[0;34m()\u001b[0m\n",
            "\u001b[0;32m<ipython-input-14-56101ae1635a>\u001b[0m in \u001b[0;36mville\u001b[0;34m(adress)\u001b[0m\n\u001b[1;32m      1\u001b[0m \u001b[0;32mdef\u001b[0m \u001b[0mville\u001b[0m\u001b[0;34m(\u001b[0m\u001b[0madress\u001b[0m\u001b[0;34m)\u001b[0m\u001b[0;34m:\u001b[0m\u001b[0;34m\u001b[0m\u001b[0;34m\u001b[0m\u001b[0m\n\u001b[0;32m----> 2\u001b[0;31m   \u001b[0;32mreturn\u001b[0m \u001b[0madress\u001b[0m\u001b[0;34m.\u001b[0m\u001b[0msplit\u001b[0m\u001b[0;34m(\u001b[0m\u001b[0;34m', '\u001b[0m\u001b[0;34m)\u001b[0m\u001b[0;34m[\u001b[0m\u001b[0;36m1\u001b[0m\u001b[0;34m]\u001b[0m\u001b[0;34m\u001b[0m\u001b[0;34m\u001b[0m\u001b[0m\n\u001b[0m",
            "\u001b[0;31mAttributeError\u001b[0m: 'float' object has no attribute 'split'"
          ]
        }
      ]
    },
    {
      "cell_type": "code",
      "source": [
        "ventes.info()"
      ],
      "metadata": {
        "colab": {
          "base_uri": "https://localhost:8080/"
        },
        "id": "VQrEBpm2iYN6",
        "outputId": "683d2659-0083-4042-8b5b-39149a1e26a2"
      },
      "execution_count": null,
      "outputs": [
        {
          "output_type": "stream",
          "name": "stdout",
          "text": [
            "<class 'pandas.core.frame.DataFrame'>\n",
            "RangeIndex: 186850 entries, 0 to 186849\n",
            "Data columns (total 6 columns):\n",
            " #   Column            Non-Null Count   Dtype \n",
            "---  ------            --------------   ----- \n",
            " 0   Order ID          186305 non-null  object\n",
            " 1   Product           186305 non-null  object\n",
            " 2   Quantity Ordered  186305 non-null  object\n",
            " 3   Price Each        186305 non-null  object\n",
            " 4   Order Date        186305 non-null  object\n",
            " 5   Purchase Address  186305 non-null  object\n",
            "dtypes: object(6)\n",
            "memory usage: 8.6+ MB\n"
          ]
        }
      ]
    },
    {
      "cell_type": "code",
      "source": [
        "ventes.isnull().sum()"
      ],
      "metadata": {
        "colab": {
          "base_uri": "https://localhost:8080/"
        },
        "id": "1Ff_VRJwijDX",
        "outputId": "ef092cee-d703-4ec7-87ba-63325a6d9905"
      },
      "execution_count": null,
      "outputs": [
        {
          "output_type": "execute_result",
          "data": {
            "text/plain": [
              "Order ID            545\n",
              "Product             545\n",
              "Quantity Ordered    545\n",
              "Price Each          545\n",
              "Order Date          545\n",
              "Purchase Address    545\n",
              "dtype: int64"
            ]
          },
          "metadata": {},
          "execution_count": 19
        }
      ]
    },
    {
      "cell_type": "code",
      "source": [],
      "metadata": {
        "id": "-g-YJxGpkJDB"
      },
      "execution_count": null,
      "outputs": []
    },
    {
      "cell_type": "code",
      "source": [
        "ventes.isnull().all(axis=1)"
      ],
      "metadata": {
        "colab": {
          "base_uri": "https://localhost:8080/"
        },
        "id": "M0QfczLYjbOH",
        "outputId": "7e74dbfb-0875-43db-b16c-40e695f87d9d"
      },
      "execution_count": null,
      "outputs": [
        {
          "output_type": "execute_result",
          "data": {
            "text/plain": [
              "0         False\n",
              "1          True\n",
              "2         False\n",
              "3         False\n",
              "4         False\n",
              "          ...  \n",
              "186845    False\n",
              "186846    False\n",
              "186847    False\n",
              "186848    False\n",
              "186849    False\n",
              "Length: 186850, dtype: bool"
            ]
          },
          "metadata": {},
          "execution_count": 29
        }
      ]
    },
    {
      "cell_type": "code",
      "source": [
        "ventes[ventes.isnull().all(axis=1)]"
      ],
      "metadata": {
        "colab": {
          "base_uri": "https://localhost:8080/",
          "height": 424
        },
        "id": "h1gUsVdcjbAv",
        "outputId": "2071d836-8f99-4279-9e85-bdc648c15aa5"
      },
      "execution_count": null,
      "outputs": [
        {
          "output_type": "execute_result",
          "data": {
            "text/plain": [
              "       Order ID Product Quantity Ordered Price Each Order Date  \\\n",
              "1           NaN     NaN              NaN        NaN        NaN   \n",
              "356         NaN     NaN              NaN        NaN        NaN   \n",
              "735         NaN     NaN              NaN        NaN        NaN   \n",
              "1433        NaN     NaN              NaN        NaN        NaN   \n",
              "1553        NaN     NaN              NaN        NaN        NaN   \n",
              "...         ...     ...              ...        ...        ...   \n",
              "185176      NaN     NaN              NaN        NaN        NaN   \n",
              "185438      NaN     NaN              NaN        NaN        NaN   \n",
              "186042      NaN     NaN              NaN        NaN        NaN   \n",
              "186548      NaN     NaN              NaN        NaN        NaN   \n",
              "186826      NaN     NaN              NaN        NaN        NaN   \n",
              "\n",
              "       Purchase Address  \n",
              "1                   NaN  \n",
              "356                 NaN  \n",
              "735                 NaN  \n",
              "1433                NaN  \n",
              "1553                NaN  \n",
              "...                 ...  \n",
              "185176              NaN  \n",
              "185438              NaN  \n",
              "186042              NaN  \n",
              "186548              NaN  \n",
              "186826              NaN  \n",
              "\n",
              "[545 rows x 6 columns]"
            ],
            "text/html": [
              "\n",
              "  <div id=\"df-2782e6be-633e-4a2c-b237-42f66c3ef8ac\">\n",
              "    <div class=\"colab-df-container\">\n",
              "      <div>\n",
              "<style scoped>\n",
              "    .dataframe tbody tr th:only-of-type {\n",
              "        vertical-align: middle;\n",
              "    }\n",
              "\n",
              "    .dataframe tbody tr th {\n",
              "        vertical-align: top;\n",
              "    }\n",
              "\n",
              "    .dataframe thead th {\n",
              "        text-align: right;\n",
              "    }\n",
              "</style>\n",
              "<table border=\"1\" class=\"dataframe\">\n",
              "  <thead>\n",
              "    <tr style=\"text-align: right;\">\n",
              "      <th></th>\n",
              "      <th>Order ID</th>\n",
              "      <th>Product</th>\n",
              "      <th>Quantity Ordered</th>\n",
              "      <th>Price Each</th>\n",
              "      <th>Order Date</th>\n",
              "      <th>Purchase Address</th>\n",
              "    </tr>\n",
              "  </thead>\n",
              "  <tbody>\n",
              "    <tr>\n",
              "      <th>1</th>\n",
              "      <td>NaN</td>\n",
              "      <td>NaN</td>\n",
              "      <td>NaN</td>\n",
              "      <td>NaN</td>\n",
              "      <td>NaN</td>\n",
              "      <td>NaN</td>\n",
              "    </tr>\n",
              "    <tr>\n",
              "      <th>356</th>\n",
              "      <td>NaN</td>\n",
              "      <td>NaN</td>\n",
              "      <td>NaN</td>\n",
              "      <td>NaN</td>\n",
              "      <td>NaN</td>\n",
              "      <td>NaN</td>\n",
              "    </tr>\n",
              "    <tr>\n",
              "      <th>735</th>\n",
              "      <td>NaN</td>\n",
              "      <td>NaN</td>\n",
              "      <td>NaN</td>\n",
              "      <td>NaN</td>\n",
              "      <td>NaN</td>\n",
              "      <td>NaN</td>\n",
              "    </tr>\n",
              "    <tr>\n",
              "      <th>1433</th>\n",
              "      <td>NaN</td>\n",
              "      <td>NaN</td>\n",
              "      <td>NaN</td>\n",
              "      <td>NaN</td>\n",
              "      <td>NaN</td>\n",
              "      <td>NaN</td>\n",
              "    </tr>\n",
              "    <tr>\n",
              "      <th>1553</th>\n",
              "      <td>NaN</td>\n",
              "      <td>NaN</td>\n",
              "      <td>NaN</td>\n",
              "      <td>NaN</td>\n",
              "      <td>NaN</td>\n",
              "      <td>NaN</td>\n",
              "    </tr>\n",
              "    <tr>\n",
              "      <th>...</th>\n",
              "      <td>...</td>\n",
              "      <td>...</td>\n",
              "      <td>...</td>\n",
              "      <td>...</td>\n",
              "      <td>...</td>\n",
              "      <td>...</td>\n",
              "    </tr>\n",
              "    <tr>\n",
              "      <th>185176</th>\n",
              "      <td>NaN</td>\n",
              "      <td>NaN</td>\n",
              "      <td>NaN</td>\n",
              "      <td>NaN</td>\n",
              "      <td>NaN</td>\n",
              "      <td>NaN</td>\n",
              "    </tr>\n",
              "    <tr>\n",
              "      <th>185438</th>\n",
              "      <td>NaN</td>\n",
              "      <td>NaN</td>\n",
              "      <td>NaN</td>\n",
              "      <td>NaN</td>\n",
              "      <td>NaN</td>\n",
              "      <td>NaN</td>\n",
              "    </tr>\n",
              "    <tr>\n",
              "      <th>186042</th>\n",
              "      <td>NaN</td>\n",
              "      <td>NaN</td>\n",
              "      <td>NaN</td>\n",
              "      <td>NaN</td>\n",
              "      <td>NaN</td>\n",
              "      <td>NaN</td>\n",
              "    </tr>\n",
              "    <tr>\n",
              "      <th>186548</th>\n",
              "      <td>NaN</td>\n",
              "      <td>NaN</td>\n",
              "      <td>NaN</td>\n",
              "      <td>NaN</td>\n",
              "      <td>NaN</td>\n",
              "      <td>NaN</td>\n",
              "    </tr>\n",
              "    <tr>\n",
              "      <th>186826</th>\n",
              "      <td>NaN</td>\n",
              "      <td>NaN</td>\n",
              "      <td>NaN</td>\n",
              "      <td>NaN</td>\n",
              "      <td>NaN</td>\n",
              "      <td>NaN</td>\n",
              "    </tr>\n",
              "  </tbody>\n",
              "</table>\n",
              "<p>545 rows × 6 columns</p>\n",
              "</div>\n",
              "      <button class=\"colab-df-convert\" onclick=\"convertToInteractive('df-2782e6be-633e-4a2c-b237-42f66c3ef8ac')\"\n",
              "              title=\"Convert this dataframe to an interactive table.\"\n",
              "              style=\"display:none;\">\n",
              "        \n",
              "  <svg xmlns=\"http://www.w3.org/2000/svg\" height=\"24px\"viewBox=\"0 0 24 24\"\n",
              "       width=\"24px\">\n",
              "    <path d=\"M0 0h24v24H0V0z\" fill=\"none\"/>\n",
              "    <path d=\"M18.56 5.44l.94 2.06.94-2.06 2.06-.94-2.06-.94-.94-2.06-.94 2.06-2.06.94zm-11 1L8.5 8.5l.94-2.06 2.06-.94-2.06-.94L8.5 2.5l-.94 2.06-2.06.94zm10 10l.94 2.06.94-2.06 2.06-.94-2.06-.94-.94-2.06-.94 2.06-2.06.94z\"/><path d=\"M17.41 7.96l-1.37-1.37c-.4-.4-.92-.59-1.43-.59-.52 0-1.04.2-1.43.59L10.3 9.45l-7.72 7.72c-.78.78-.78 2.05 0 2.83L4 21.41c.39.39.9.59 1.41.59.51 0 1.02-.2 1.41-.59l7.78-7.78 2.81-2.81c.8-.78.8-2.07 0-2.86zM5.41 20L4 18.59l7.72-7.72 1.47 1.35L5.41 20z\"/>\n",
              "  </svg>\n",
              "      </button>\n",
              "      \n",
              "  <style>\n",
              "    .colab-df-container {\n",
              "      display:flex;\n",
              "      flex-wrap:wrap;\n",
              "      gap: 12px;\n",
              "    }\n",
              "\n",
              "    .colab-df-convert {\n",
              "      background-color: #E8F0FE;\n",
              "      border: none;\n",
              "      border-radius: 50%;\n",
              "      cursor: pointer;\n",
              "      display: none;\n",
              "      fill: #1967D2;\n",
              "      height: 32px;\n",
              "      padding: 0 0 0 0;\n",
              "      width: 32px;\n",
              "    }\n",
              "\n",
              "    .colab-df-convert:hover {\n",
              "      background-color: #E2EBFA;\n",
              "      box-shadow: 0px 1px 2px rgba(60, 64, 67, 0.3), 0px 1px 3px 1px rgba(60, 64, 67, 0.15);\n",
              "      fill: #174EA6;\n",
              "    }\n",
              "\n",
              "    [theme=dark] .colab-df-convert {\n",
              "      background-color: #3B4455;\n",
              "      fill: #D2E3FC;\n",
              "    }\n",
              "\n",
              "    [theme=dark] .colab-df-convert:hover {\n",
              "      background-color: #434B5C;\n",
              "      box-shadow: 0px 1px 3px 1px rgba(0, 0, 0, 0.15);\n",
              "      filter: drop-shadow(0px 1px 2px rgba(0, 0, 0, 0.3));\n",
              "      fill: #FFFFFF;\n",
              "    }\n",
              "  </style>\n",
              "\n",
              "      <script>\n",
              "        const buttonEl =\n",
              "          document.querySelector('#df-2782e6be-633e-4a2c-b237-42f66c3ef8ac button.colab-df-convert');\n",
              "        buttonEl.style.display =\n",
              "          google.colab.kernel.accessAllowed ? 'block' : 'none';\n",
              "\n",
              "        async function convertToInteractive(key) {\n",
              "          const element = document.querySelector('#df-2782e6be-633e-4a2c-b237-42f66c3ef8ac');\n",
              "          const dataTable =\n",
              "            await google.colab.kernel.invokeFunction('convertToInteractive',\n",
              "                                                     [key], {});\n",
              "          if (!dataTable) return;\n",
              "\n",
              "          const docLinkHtml = 'Like what you see? Visit the ' +\n",
              "            '<a target=\"_blank\" href=https://colab.research.google.com/notebooks/data_table.ipynb>data table notebook</a>'\n",
              "            + ' to learn more about interactive tables.';\n",
              "          element.innerHTML = '';\n",
              "          dataTable['output_type'] = 'display_data';\n",
              "          await google.colab.output.renderOutput(dataTable, element);\n",
              "          const docLink = document.createElement('div');\n",
              "          docLink.innerHTML = docLinkHtml;\n",
              "          element.appendChild(docLink);\n",
              "        }\n",
              "      </script>\n",
              "    </div>\n",
              "  </div>\n",
              "  "
            ]
          },
          "metadata": {},
          "execution_count": 30
        }
      ]
    },
    {
      "cell_type": "code",
      "source": [
        "a_supprimer = ventes[ventes.isnull().all(axis=1)].index.tolist()"
      ],
      "metadata": {
        "id": "KUuuRTnLm-LL"
      },
      "execution_count": null,
      "outputs": []
    },
    {
      "cell_type": "code",
      "source": [
        "ventes = ventes.drop(a_supprimer)"
      ],
      "metadata": {
        "id": "JrouhqtSnQ2a"
      },
      "execution_count": null,
      "outputs": []
    },
    {
      "cell_type": "code",
      "source": [
        "ventes.isnull().sum()"
      ],
      "metadata": {
        "colab": {
          "base_uri": "https://localhost:8080/"
        },
        "id": "41_05zCAnQqx",
        "outputId": "a2dc0ad9-af6c-44fb-fdd1-1010c1eee194"
      },
      "execution_count": null,
      "outputs": [
        {
          "output_type": "execute_result",
          "data": {
            "text/plain": [
              "Order ID            0\n",
              "Product             0\n",
              "Quantity Ordered    0\n",
              "Price Each          0\n",
              "Order Date          0\n",
              "Purchase Address    0\n",
              "dtype: int64"
            ]
          },
          "metadata": {},
          "execution_count": 37
        }
      ]
    },
    {
      "cell_type": "code",
      "source": [
        "ventes['Purchase Address'].apply(ville)"
      ],
      "metadata": {
        "colab": {
          "base_uri": "https://localhost:8080/",
          "height": 259
        },
        "id": "Ym0-1P-Rhu7J",
        "outputId": "cbf9e2e0-dd24-4450-e05d-1e898b41885d"
      },
      "execution_count": null,
      "outputs": [
        {
          "output_type": "error",
          "ename": "IndexError",
          "evalue": "ignored",
          "traceback": [
            "\u001b[0;31m---------------------------------------------------------------------------\u001b[0m",
            "\u001b[0;31mIndexError\u001b[0m                                Traceback (most recent call last)",
            "\u001b[0;32m<ipython-input-44-95537ae597de>\u001b[0m in \u001b[0;36m<module>\u001b[0;34m\u001b[0m\n\u001b[0;32m----> 1\u001b[0;31m \u001b[0mventes\u001b[0m\u001b[0;34m[\u001b[0m\u001b[0;34m'Purchase Address'\u001b[0m\u001b[0;34m]\u001b[0m\u001b[0;34m.\u001b[0m\u001b[0mapply\u001b[0m\u001b[0;34m(\u001b[0m\u001b[0mville\u001b[0m\u001b[0;34m)\u001b[0m\u001b[0;34m\u001b[0m\u001b[0;34m\u001b[0m\u001b[0m\n\u001b[0m",
            "\u001b[0;32m/usr/local/lib/python3.9/dist-packages/pandas/core/series.py\u001b[0m in \u001b[0;36mapply\u001b[0;34m(self, func, convert_dtype, args, **kwargs)\u001b[0m\n\u001b[1;32m   4431\u001b[0m         \u001b[0mdtype\u001b[0m\u001b[0;34m:\u001b[0m \u001b[0mfloat64\u001b[0m\u001b[0;34m\u001b[0m\u001b[0;34m\u001b[0m\u001b[0m\n\u001b[1;32m   4432\u001b[0m         \"\"\"\n\u001b[0;32m-> 4433\u001b[0;31m         \u001b[0;32mreturn\u001b[0m \u001b[0mSeriesApply\u001b[0m\u001b[0;34m(\u001b[0m\u001b[0mself\u001b[0m\u001b[0;34m,\u001b[0m \u001b[0mfunc\u001b[0m\u001b[0;34m,\u001b[0m \u001b[0mconvert_dtype\u001b[0m\u001b[0;34m,\u001b[0m \u001b[0margs\u001b[0m\u001b[0;34m,\u001b[0m \u001b[0mkwargs\u001b[0m\u001b[0;34m)\u001b[0m\u001b[0;34m.\u001b[0m\u001b[0mapply\u001b[0m\u001b[0;34m(\u001b[0m\u001b[0;34m)\u001b[0m\u001b[0;34m\u001b[0m\u001b[0;34m\u001b[0m\u001b[0m\n\u001b[0m\u001b[1;32m   4434\u001b[0m \u001b[0;34m\u001b[0m\u001b[0m\n\u001b[1;32m   4435\u001b[0m     def _reduce(\n",
            "\u001b[0;32m/usr/local/lib/python3.9/dist-packages/pandas/core/apply.py\u001b[0m in \u001b[0;36mapply\u001b[0;34m(self)\u001b[0m\n\u001b[1;32m   1086\u001b[0m             \u001b[0;32mreturn\u001b[0m \u001b[0mself\u001b[0m\u001b[0;34m.\u001b[0m\u001b[0mapply_str\u001b[0m\u001b[0;34m(\u001b[0m\u001b[0;34m)\u001b[0m\u001b[0;34m\u001b[0m\u001b[0;34m\u001b[0m\u001b[0m\n\u001b[1;32m   1087\u001b[0m \u001b[0;34m\u001b[0m\u001b[0m\n\u001b[0;32m-> 1088\u001b[0;31m         \u001b[0;32mreturn\u001b[0m \u001b[0mself\u001b[0m\u001b[0;34m.\u001b[0m\u001b[0mapply_standard\u001b[0m\u001b[0;34m(\u001b[0m\u001b[0;34m)\u001b[0m\u001b[0;34m\u001b[0m\u001b[0;34m\u001b[0m\u001b[0m\n\u001b[0m\u001b[1;32m   1089\u001b[0m \u001b[0;34m\u001b[0m\u001b[0m\n\u001b[1;32m   1090\u001b[0m     \u001b[0;32mdef\u001b[0m \u001b[0magg\u001b[0m\u001b[0;34m(\u001b[0m\u001b[0mself\u001b[0m\u001b[0;34m)\u001b[0m\u001b[0;34m:\u001b[0m\u001b[0;34m\u001b[0m\u001b[0;34m\u001b[0m\u001b[0m\n",
            "\u001b[0;32m/usr/local/lib/python3.9/dist-packages/pandas/core/apply.py\u001b[0m in \u001b[0;36mapply_standard\u001b[0;34m(self)\u001b[0m\n\u001b[1;32m   1141\u001b[0m                 \u001b[0;31m# List[Union[Callable[..., Any], str]]]]]\"; expected\u001b[0m\u001b[0;34m\u001b[0m\u001b[0;34m\u001b[0m\u001b[0m\n\u001b[1;32m   1142\u001b[0m                 \u001b[0;31m# \"Callable[[Any], Any]\"\u001b[0m\u001b[0;34m\u001b[0m\u001b[0;34m\u001b[0m\u001b[0m\n\u001b[0;32m-> 1143\u001b[0;31m                 mapped = lib.map_infer(\n\u001b[0m\u001b[1;32m   1144\u001b[0m                     \u001b[0mvalues\u001b[0m\u001b[0;34m,\u001b[0m\u001b[0;34m\u001b[0m\u001b[0;34m\u001b[0m\u001b[0m\n\u001b[1;32m   1145\u001b[0m                     \u001b[0mf\u001b[0m\u001b[0;34m,\u001b[0m  \u001b[0;31m# type: ignore[arg-type]\u001b[0m\u001b[0;34m\u001b[0m\u001b[0;34m\u001b[0m\u001b[0m\n",
            "\u001b[0;32m/usr/local/lib/python3.9/dist-packages/pandas/_libs/lib.pyx\u001b[0m in \u001b[0;36mpandas._libs.lib.map_infer\u001b[0;34m()\u001b[0m\n",
            "\u001b[0;32m<ipython-input-42-76c5bb6ad7f8>\u001b[0m in \u001b[0;36mville\u001b[0;34m(adress)\u001b[0m\n\u001b[1;32m      1\u001b[0m \u001b[0;32mdef\u001b[0m \u001b[0mville\u001b[0m\u001b[0;34m(\u001b[0m\u001b[0madress\u001b[0m\u001b[0;34m)\u001b[0m\u001b[0;34m:\u001b[0m\u001b[0;34m\u001b[0m\u001b[0;34m\u001b[0m\u001b[0m\n\u001b[0;32m----> 2\u001b[0;31m   \u001b[0;32mreturn\u001b[0m \u001b[0madress\u001b[0m\u001b[0;34m.\u001b[0m\u001b[0msplit\u001b[0m\u001b[0;34m(\u001b[0m\u001b[0;34m','\u001b[0m\u001b[0;34m)\u001b[0m\u001b[0;34m[\u001b[0m\u001b[0;36m1\u001b[0m\u001b[0;34m]\u001b[0m\u001b[0;34m.\u001b[0m\u001b[0mstrip\u001b[0m\u001b[0;34m(\u001b[0m\u001b[0;34m)\u001b[0m\u001b[0;34m\u001b[0m\u001b[0;34m\u001b[0m\u001b[0m\n\u001b[0m",
            "\u001b[0;31mIndexError\u001b[0m: list index out of range"
          ]
        }
      ]
    },
    {
      "cell_type": "code",
      "source": [
        "for i, row in ventes.iterrows():\n",
        "  print(row[\"Purchase Address\"])\n",
        "  v = ville(row['Purchase Address'])"
      ],
      "metadata": {
        "colab": {
          "base_uri": "https://localhost:8080/",
          "height": 1000
        },
        "id": "2DS8u0MEpfCi",
        "outputId": "2c3cf781-10c5-4a1a-a0dd-78268ceb35f1"
      },
      "execution_count": null,
      "outputs": [
        {
          "output_type": "stream",
          "name": "stdout",
          "text": [
            "917 1st St, Dallas, TX 75001\n",
            "682 Chestnut St, Boston, MA 02215\n",
            "669 Spruce St, Los Angeles, CA 90001\n",
            "669 Spruce St, Los Angeles, CA 90001\n",
            "333 8th St, Los Angeles, CA 90001\n",
            "381 Wilson St, San Francisco, CA 94016\n",
            "668 Center St, Seattle, WA 98101\n",
            "790 Ridge St, Atlanta, GA 30301\n",
            "915 Willow St, San Francisco, CA 94016\n",
            "83 7th St, Boston, MA 02215\n",
            "444 7th St, Los Angeles, CA 90001\n",
            "438 Elm St, Seattle, WA 98101\n",
            "657 Hill St, Dallas, TX 75001\n",
            "186 12th St, Dallas, TX 75001\n",
            "253 Johnson St, Atlanta, GA 30301\n",
            "149 Dogwood St, New York City, NY 10001\n",
            "214 Chestnut St, San Francisco, CA 94016\n",
            "20 Hill St, Los Angeles, CA 90001\n",
            "20 Hill St, Los Angeles, CA 90001\n",
            "433 Hill St, New York City, NY 10001\n",
            "771 Ridge St, Los Angeles, CA 90001\n",
            "260 Spruce St, Dallas, TX 75001\n",
            "513 Church St, Boston, MA 02215\n",
            "886 Jefferson St, New York City, NY 10001\n",
            "886 Willow St, Los Angeles, CA 90001\n",
            "84 Jackson St, Boston, MA 02215\n",
            "178 Lincoln St, Atlanta, GA 30301\n",
            "146 Jackson St, Portland, OR 97035\n",
            "936 Church St, San Francisco, CA 94016\n",
            "823 Highland St, Boston, MA 02215\n",
            "823 Highland St, Boston, MA 02215\n",
            "365 Center St, San Francisco, CA 94016\n",
            "365 Center St, San Francisco, CA 94016\n",
            "557 5th St, Los Angeles, CA 90001\n",
            "765 Cherry St, Seattle, WA 98101\n",
            "846 Highland St, Atlanta, GA 30301\n",
            "873 6th St, New York City, NY 10001\n",
            "600 Maple St, Austin, TX 73301\n",
            "352 4th St, Los Angeles, CA 90001\n",
            "906 7th St, Portland, OR 97035\n",
            "63 Maple St, San Francisco, CA 94016\n",
            "383 6th St, Los Angeles, CA 90001\n",
            "572 Meadow St, Dallas, TX 75001\n",
            "681 11th St, San Francisco, CA 94016\n",
            "294 Park St, San Francisco, CA 94016\n",
            "279 Maple St, New York City, NY 10001\n",
            "87 West St, Boston, MA 02215\n",
            "754 10th St, Los Angeles, CA 90001\n",
            "9 Jefferson St, Dallas, TX 75001\n",
            "858 6th St, San Francisco, CA 94016\n",
            "462 11th St, San Francisco, CA 94016\n",
            "717 Pine St, San Francisco, CA 94016\n",
            "487 Maple St, San Francisco, CA 94016\n",
            "689 10th St, Boston, MA 02215\n",
            "15 Cherry St, San Francisco, CA 94016\n",
            "267 11th St, Austin, TX 73301\n",
            "382 River St, Dallas, TX 75001\n",
            "971 Sunset St, San Francisco, CA 94016\n",
            "149 North St, Seattle, WA 98101\n",
            "405 4th St, New York City, NY 10001\n",
            "647 Jackson St, San Francisco, CA 94016\n",
            "833 River St, Dallas, TX 75001\n",
            "380 Washington St, San Francisco, CA 94016\n",
            "319 8th St, Portland, OR 97035\n",
            "273 South St, San Francisco, CA 94016\n",
            "116 North St, Los Angeles, CA 90001\n",
            "994 Pine St, Los Angeles, CA 90001\n",
            "863 8th St, Boston, MA 02215\n",
            "983 11th St, San Francisco, CA 94016\n",
            "807 12th St, Atlanta, GA 30301\n",
            "664 Church St, Seattle, WA 98101\n",
            "858 5th St, San Francisco, CA 94016\n",
            "491 Chestnut St, Boston, MA 02215\n",
            "994 13th St, Atlanta, GA 30301\n",
            "628 Wilson St, Dallas, TX 75001\n",
            "101 Lincoln St, San Francisco, CA 94016\n",
            "770 Maple St, San Francisco, CA 94016\n",
            "292 Dogwood St, San Francisco, CA 94016\n",
            "814 Madison St, San Francisco, CA 94016\n",
            "863 Hickory St, Los Angeles, CA 90001\n",
            "311 Madison St, Atlanta, GA 30301\n",
            "85 North St, San Francisco, CA 94016\n",
            "140 10th St, Boston, MA 02215\n",
            "261 Sunset St, New York City, NY 10001\n",
            "869 Cherry St, Boston, MA 02215\n",
            "853 Cedar St, San Francisco, CA 94016\n",
            "164 Lake St, San Francisco, CA 94016\n",
            "655 Sunset St, Boston, MA 02215\n",
            "72 Elm St, Portland, OR 97035\n",
            "373 Adams St, Boston, MA 02215\n",
            "962 7th St, Los Angeles, CA 90001\n",
            "514 Lake St, Dallas, TX 75001\n",
            "657 Adams St, Portland, OR 97035\n",
            "273 South St, Los Angeles, CA 90001\n",
            "732 2nd St, Portland, OR 97035\n",
            "702 11th St, San Francisco, CA 94016\n",
            "153 River St, Boston, MA 02215\n",
            "997 South St, Boston, MA 02215\n",
            "502 14th St, New York City, NY 10001\n",
            "285 Chestnut St, San Francisco, CA 94016\n",
            "880 Lakeview St, Seattle, WA 98101\n",
            "848 Center St, San Francisco, CA 94016\n",
            "12 Lakeview St, New York City, NY 10001\n",
            "774 Forest St, Los Angeles, CA 90001\n",
            "573 Pine St, San Francisco, CA 94016\n",
            "804 Church St, Dallas, TX 75001\n",
            "267 West St, Boston, MA 02215\n",
            "522 6th St, Atlanta, GA 30301\n",
            "678 Hickory St, Portland, OR 97035\n",
            "450 Johnson St, Seattle, WA 98101\n",
            "544 Madison St, Los Angeles, CA 90001\n",
            "927 13th St, Dallas, TX 75001\n",
            "382 Forest St, Seattle, WA 98101\n",
            "92 11th St, Los Angeles, CA 90001\n",
            "56 2nd St, Dallas, TX 75001\n",
            "506 Jackson St, Dallas, TX 75001\n",
            "892 Willow St, San Francisco, CA 94016\n",
            "738 Jefferson St, New York City, NY 10001\n",
            "778 Maple St, New York City, NY 10001\n",
            "778 Maple St, New York City, NY 10001\n",
            "952 1st St, Boston, MA 02215\n",
            "907 West St, Austin, TX 73301\n",
            "933 Meadow St, Seattle, WA 98101\n",
            "788 Lincoln St, Los Angeles, CA 90001\n",
            "661 Washington St, Austin, TX 73301\n",
            "345 Sunset St, San Francisco, CA 94016\n",
            "245 West St, Boston, MA 02215\n",
            "368 Main St, Los Angeles, CA 90001\n",
            "331 Cherry St, Seattle, WA 98101\n",
            "331 Cherry St, Seattle, WA 98101\n",
            "593 Adams St, Boston, MA 02215\n",
            "253 Willow St, Los Angeles, CA 90001\n",
            "293 Washington St, Los Angeles, CA 90001\n",
            "114 10th St, New York City, NY 10001\n",
            "892 10th St, Austin, TX 73301\n",
            "121 Wilson St, Los Angeles, CA 90001\n",
            "229 Church St, San Francisco, CA 94016\n",
            "659 Lincoln St, New York City, NY 10001\n",
            "659 Lincoln St, New York City, NY 10001\n",
            "873 Sunset St, San Francisco, CA 94016\n",
            "991 Lincoln St, Los Angeles, CA 90001\n",
            "290 Forest St, San Francisco, CA 94016\n",
            "252 Walnut St, San Francisco, CA 94016\n",
            "985 Washington St, Atlanta, GA 30301\n",
            "709 Lake St, Seattle, WA 98101\n",
            "343 Johnson St, New York City, NY 10001\n",
            "675 Center St, New York City, NY 10001\n",
            "232 Lakeview St, San Francisco, CA 94016\n",
            "49 Jefferson St, Boston, MA 02215\n",
            "967 Walnut St, Dallas, TX 75001\n",
            "128 Church St, Austin, TX 73301\n",
            "896 Sunset St, Seattle, WA 98101\n",
            "748 Washington St, New York City, NY 10001\n",
            "909 Center St, Seattle, WA 98101\n",
            "503 8th St, Austin, TX 73301\n",
            "309 South St, New York City, NY 10001\n",
            "408 Center St, Portland, OR 97035\n",
            "542 Ridge St, New York City, NY 10001\n",
            "971 Church St, Dallas, TX 75001\n",
            "848 West St, Dallas, TX 75001\n",
            "796 River St, Dallas, TX 75001\n",
            "910 Washington St, San Francisco, CA 94016\n",
            "498 Walnut St, San Francisco, CA 94016\n",
            "303 Spruce St, Los Angeles, CA 90001\n",
            "258 Jefferson St, San Francisco, CA 94016\n",
            "794 7th St, Los Angeles, CA 90001\n",
            "490 Lakeview St, Atlanta, GA 30301\n",
            "672 Sunset St, Los Angeles, CA 90001\n",
            "602 Hickory St, Boston, MA 02215\n",
            "556 South St, Portland, OR 97035\n",
            "469 7th St, San Francisco, CA 94016\n",
            "209 14th St, New York City, NY 10001\n",
            "613 12th St, Portland, OR 97035\n",
            "34 12th St, San Francisco, CA 94016\n",
            "630 14th St, San Francisco, CA 94016\n",
            "979 8th St, Los Angeles, CA 90001\n",
            "218 Hickory St, Los Angeles, CA 90001\n",
            "516 Park St, Atlanta, GA 30301\n",
            "637 9th St, Seattle, WA 98101\n",
            "403 Ridge St, New York City, NY 10001\n",
            "36 Lincoln St, San Francisco, CA 94016\n",
            "504 Wilson St, Dallas, TX 75001\n",
            "575 Hickory St, San Francisco, CA 94016\n",
            "611 Jackson St, New York City, NY 10001\n",
            "802 Ridge St, Austin, TX 73301\n",
            "421 2nd St, Los Angeles, CA 90001\n",
            "109 Center St, Los Angeles, CA 90001\n",
            "661 Center St, San Francisco, CA 94016\n",
            "730 6th St, Austin, TX 73301\n",
            "730 6th St, Austin, TX 73301\n",
            "699 Washington St, Dallas, TX 75001\n",
            "990 Ridge St, San Francisco, CA 94016\n",
            "115 Forest St, Los Angeles, CA 90001\n",
            "570 11th St, Atlanta, GA 30301\n",
            "937 Maple St, Los Angeles, CA 90001\n",
            "461 Adams St, Los Angeles, CA 90001\n",
            "638 Park St, Seattle, WA 98101\n",
            "645 7th St, San Francisco, CA 94016\n",
            "339 13th St, Boston, MA 02215\n",
            "322 Adams St, Seattle, WA 98101\n",
            "255 Cedar St, Austin, TX 73301\n",
            "258 4th St, San Francisco, CA 94016\n",
            "665 Wilson St, San Francisco, CA 94016\n",
            "496 Adams St, Atlanta, GA 30301\n",
            "288 Forest St, Los Angeles, CA 90001\n",
            "825 Madison St, Seattle, WA 98101\n",
            "348 Lake St, New York City, NY 10001\n",
            "79 Hickory St, Portland, OR 97035\n",
            "166 Highland St, San Francisco, CA 94016\n",
            "864 Main St, Los Angeles, CA 90001\n",
            "813 Highland St, San Francisco, CA 94016\n",
            "830 2nd St, San Francisco, CA 94016\n",
            "977 1st St, Seattle, WA 98101\n",
            "638 Johnson St, San Francisco, CA 94016\n",
            "652 Center St, Atlanta, GA 30301\n",
            "729 Ridge St, San Francisco, CA 94016\n",
            "84 Johnson St, Boston, MA 02215\n",
            "205 4th St, Atlanta, GA 30301\n",
            "643 Spruce St, Los Angeles, CA 90001\n",
            "206 10th St, San Francisco, CA 94016\n",
            "345 Church St, San Francisco, CA 94016\n",
            "403 11th St, New York City, NY 10001\n",
            "426 14th St, New York City, NY 10001\n",
            "30 9th St, Portland, ME 04101\n",
            "372 Church St, Los Angeles, CA 90001\n",
            "372 Church St, Los Angeles, CA 90001\n",
            "975 Forest St, San Francisco, CA 94016\n",
            "613 Washington St, Seattle, WA 98101\n",
            "163 Jackson St, Portland, OR 97035\n",
            "201 Madison St, San Francisco, CA 94016\n",
            "351 Park St, Atlanta, GA 30301\n",
            "52 Walnut St, New York City, NY 10001\n",
            "976 Hickory St, Dallas, TX 75001\n",
            "976 Hickory St, Dallas, TX 75001\n",
            "993 13th St, San Francisco, CA 94016\n",
            "926 North St, San Francisco, CA 94016\n",
            "725 Madison St, Los Angeles, CA 90001\n",
            "533 Ridge St, Los Angeles, CA 90001\n",
            "701 North St, San Francisco, CA 94016\n",
            "180 Pine St, Los Angeles, CA 90001\n",
            "200 North St, New York City, NY 10001\n",
            "990 Meadow St, San Francisco, CA 94016\n",
            "689 9th St, Austin, TX 73301\n",
            "908 Jackson St, Los Angeles, CA 90001\n",
            "772 11th St, Atlanta, GA 30301\n",
            "147 South St, San Francisco, CA 94016\n",
            "425 Adams St, Dallas, TX 75001\n",
            "360 Center St, San Francisco, CA 94016\n",
            "5 2nd St, Los Angeles, CA 90001\n",
            "923 Elm St, Los Angeles, CA 90001\n",
            "923 Elm St, Los Angeles, CA 90001\n",
            "923 Elm St, Los Angeles, CA 90001\n",
            "445 Jefferson St, Atlanta, GA 30301\n",
            "452 Spruce St, Portland, OR 97035\n",
            "766 West St, Atlanta, GA 30301\n",
            "125 North St, San Francisco, CA 94016\n",
            "627 12th St, Boston, MA 02215\n",
            "649 7th St, Austin, TX 73301\n",
            "690 Walnut St, Seattle, WA 98101\n",
            "91 Lincoln St, Portland, OR 97035\n",
            "91 Lincoln St, Portland, OR 97035\n",
            "197 Cherry St, Austin, TX 73301\n",
            "758 Hill St, Seattle, WA 98101\n",
            "933 Meadow St, San Francisco, CA 94016\n",
            "933 Meadow St, San Francisco, CA 94016\n",
            "278 13th St, San Francisco, CA 94016\n",
            "86 Meadow St, Atlanta, GA 30301\n",
            "456 13th St, Dallas, TX 75001\n",
            "569 Willow St, New York City, NY 10001\n",
            "269 Hill St, Atlanta, GA 30301\n",
            "269 Hill St, Atlanta, GA 30301\n",
            "501 13th St, New York City, NY 10001\n",
            "327 Adams St, San Francisco, CA 94016\n",
            "623 Lincoln St, Portland, OR 97035\n",
            "284 Walnut St, Seattle, WA 98101\n",
            "642 13th St, San Francisco, CA 94016\n",
            "615 9th St, Portland, OR 97035\n",
            "654 Adams St, Boston, MA 02215\n",
            "72 Meadow St, San Francisco, CA 94016\n",
            "40 Cedar St, Seattle, WA 98101\n",
            "893 11th St, Seattle, WA 98101\n",
            "983 Center St, Los Angeles, CA 90001\n",
            "338 6th St, San Francisco, CA 94016\n",
            "72 Meadow St, San Francisco, CA 94016\n",
            "465 Hickory St, Los Angeles, CA 90001\n",
            "696 Highland St, Seattle, WA 98101\n",
            "335 Wilson St, San Francisco, CA 94016\n",
            "663 5th St, Austin, TX 73301\n",
            "743 Spruce St, San Francisco, CA 94016\n",
            "533 Spruce St, Los Angeles, CA 90001\n",
            "226 Madison St, Boston, MA 02215\n",
            "193 Forest St, San Francisco, CA 94016\n",
            "628 10th St, Boston, MA 02215\n",
            "857 Hickory St, Boston, MA 02215\n",
            "213 River St, New York City, NY 10001\n",
            "656 South St, New York City, NY 10001\n",
            "625 Willow St, Boston, MA 02215\n",
            "939 14th St, Austin, TX 73301\n",
            "177 Highland St, San Francisco, CA 94016\n",
            "532 1st St, New York City, NY 10001\n",
            "733 Maple St, Atlanta, GA 30301\n",
            "983 Main St, Boston, MA 02215\n",
            "925 Cedar St, San Francisco, CA 94016\n",
            "599 10th St, New York City, NY 10001\n",
            "616 9th St, Austin, TX 73301\n",
            "442 Center St, Boston, MA 02215\n",
            "309 West St, San Francisco, CA 94016\n",
            "520 5th St, Seattle, WA 98101\n",
            "669 Dogwood St, San Francisco, CA 94016\n",
            "731 Lincoln St, Portland, OR 97035\n",
            "858 14th St, New York City, NY 10001\n",
            "460 South St, Los Angeles, CA 90001\n",
            "103 12th St, Los Angeles, CA 90001\n",
            "459 8th St, San Francisco, CA 94016\n",
            "418 14th St, Portland, OR 97035\n",
            "669 Park St, Los Angeles, CA 90001\n",
            "525 Adams St, New York City, NY 10001\n",
            "420 Hill St, San Francisco, CA 94016\n",
            "370 9th St, Los Angeles, CA 90001\n",
            "267 Willow St, San Francisco, CA 94016\n",
            "64 Maple St, New York City, NY 10001\n",
            "453 Meadow St, San Francisco, CA 94016\n",
            "952 Washington St, New York City, NY 10001\n",
            "338 West St, New York City, NY 10001\n",
            "483 Washington St, San Francisco, CA 94016\n",
            "213 Highland St, Boston, MA 02215\n",
            "861 2nd St, Seattle, WA 98101\n",
            "964 Park St, New York City, NY 10001\n",
            "489 9th St, Dallas, TX 75001\n",
            "678 Madison St, Los Angeles, CA 90001\n",
            "532 Spruce St, Los Angeles, CA 90001\n",
            "325 Pine St, New York City, NY 10001\n",
            "727 Forest St, San Francisco, CA 94016\n",
            "263 Hickory St, Boston, MA 02215\n",
            "289 4th St, San Francisco, CA 94016\n",
            "161 Highland St, San Francisco, CA 94016\n",
            "370 Sunset St, Portland, ME 04101\n",
            "691 River St, New York City, NY 10001\n",
            "157 Sunset St, San Francisco, CA 94016\n",
            "929 Main St, Boston, MA 02215\n",
            "344 Dogwood St, New York City, NY 10001\n",
            "813 Highland St, San Francisco, CA 94016\n",
            "582 River St, Boston, MA 02215\n",
            "410 8th St, San Francisco, CA 94016\n",
            "591 4th St, Boston, MA 02215\n",
            "608 5th St, New York City, NY 10001\n",
            "837 Madison St, Boston, MA 02215\n",
            "950 8th St, Austin, TX 73301\n",
            "323 Ridge St, Portland, OR 97035\n",
            "165 Meadow St, Boston, MA 02215\n",
            "794 Dogwood St, Seattle, WA 98101\n",
            "589 Park St, San Francisco, CA 94016\n",
            "286 6th St, Boston, MA 02215\n",
            "77 Johnson St, Dallas, TX 75001\n",
            "941 Walnut St, San Francisco, CA 94016\n",
            "45 River St, New York City, NY 10001\n",
            "269 South St, San Francisco, CA 94016\n",
            "356 North St, Boston, MA 02215\n",
            "25 8th St, Atlanta, GA 30301\n",
            "166 Dogwood St, Atlanta, GA 30301\n",
            "684 Main St, Boston, MA 02215\n",
            "782 Ridge St, Boston, MA 02215\n",
            "92 Spruce St, New York City, NY 10001\n",
            "636 Cherry St, Los Angeles, CA 90001\n",
            "120 Sunset St, Los Angeles, CA 90001\n",
            "802 Maple St, Seattle, WA 98101\n",
            "692 Jackson St, Portland, ME 04101\n",
            "573 2nd St, Los Angeles, CA 90001\n",
            "346 13th St, Los Angeles, CA 90001\n",
            "862 7th St, Seattle, WA 98101\n",
            "340 11th St, Atlanta, GA 30301\n",
            "846 Cherry St, San Francisco, CA 94016\n",
            "64 Hill St, Dallas, TX 75001\n",
            "285 Cedar St, San Francisco, CA 94016\n",
            "376 Sunset St, Boston, MA 02215\n",
            "398 Elm St, Los Angeles, CA 90001\n",
            "240 14th St, Boston, MA 02215\n",
            "117 Lake St, New York City, NY 10001\n",
            "365 Wilson St, San Francisco, CA 94016\n",
            "859 Hill St, Los Angeles, CA 90001\n",
            "259 6th St, Los Angeles, CA 90001\n",
            "375 4th St, New York City, NY 10001\n",
            "920 Wilson St, New York City, NY 10001\n",
            "921 Cedar St, Atlanta, GA 30301\n",
            "700 Sunset St, Los Angeles, CA 90001\n",
            "203 Hickory St, San Francisco, CA 94016\n",
            "743 11th St, Dallas, TX 75001\n",
            "161 Center St, Boston, MA 02215\n",
            "57 Pine St, New York City, NY 10001\n",
            "118 Church St, Seattle, WA 98101\n",
            "698 Spruce St, New York City, NY 10001\n",
            "329 Park St, New York City, NY 10001\n",
            "315 1st St, Dallas, TX 75001\n",
            "315 1st St, Dallas, TX 75001\n",
            "846 Hickory St, Boston, MA 02215\n",
            "980 7th St, Los Angeles, CA 90001\n",
            "249 Jefferson St, Los Angeles, CA 90001\n",
            "418 12th St, San Francisco, CA 94016\n",
            "864 Hickory St, Dallas, TX 75001\n",
            "807 14th St, San Francisco, CA 94016\n",
            "419 Washington St, Portland, OR 97035\n",
            "211 2nd St, San Francisco, CA 94016\n",
            "719 West St, Austin, TX 73301\n",
            "701 Pine St, Austin, TX 73301\n",
            "991 6th St, New York City, NY 10001\n",
            "357 Center St, Los Angeles, CA 90001\n",
            "761 Highland St, San Francisco, CA 94016\n",
            "347 Jackson St, Los Angeles, CA 90001\n",
            "929 Johnson St, Dallas, TX 75001\n",
            "606 Lakeview St, Boston, MA 02215\n",
            "693 5th St, Los Angeles, CA 90001\n",
            "595 West St, Dallas, TX 75001\n",
            "524 Elm St, San Francisco, CA 94016\n",
            "169 Church St, San Francisco, CA 94016\n",
            "703 5th St, Dallas, TX 75001\n",
            "582 Church St, Boston, MA 02215\n",
            "497 Main St, Boston, MA 02215\n",
            "125 Jefferson St, Seattle, WA 98101\n",
            "737 West St, Dallas, TX 75001\n",
            "357 Willow St, Portland, OR 97035\n",
            "710 Church St, San Francisco, CA 94016\n",
            "390 Walnut St, Los Angeles, CA 90001\n",
            "453 Cedar St, San Francisco, CA 94016\n",
            "900 Dogwood St, Boston, MA 02215\n",
            "3 Main St, Boston, MA 02215\n",
            "275 Lake St, Dallas, TX 75001\n",
            "183 2nd St, Atlanta, GA 30301\n",
            "346 Wilson St, Portland, OR 97035\n",
            "524 7th St, Los Angeles, CA 90001\n",
            "166 5th St, New York City, NY 10001\n",
            "824 West St, Seattle, WA 98101\n",
            "748 Madison St, Los Angeles, CA 90001\n",
            "789 Center St, Seattle, WA 98101\n",
            "28 13th St, San Francisco, CA 94016\n",
            "28 13th St, San Francisco, CA 94016\n",
            "260 Pine St, Los Angeles, CA 90001\n",
            "808 Ridge St, Portland, OR 97035\n",
            "589 Lake St, Portland, OR 97035\n",
            "315 9th St, New York City, NY 10001\n",
            "456 10th St, Seattle, WA 98101\n",
            "924 11th St, San Francisco, CA 94016\n",
            "237 Lake St, Los Angeles, CA 90001\n",
            "769 11th St, Boston, MA 02215\n",
            "77 Lake St, Portland, OR 97035\n",
            "859 7th St, New York City, NY 10001\n",
            "623 Lakeview St, Los Angeles, CA 90001\n",
            "87 Spruce St, San Francisco, CA 94016\n",
            "251 South St, Boston, MA 02215\n",
            "346 9th St, Los Angeles, CA 90001\n",
            "346 9th St, Los Angeles, CA 90001\n",
            "322 2nd St, San Francisco, CA 94016\n",
            "338 2nd St, San Francisco, CA 94016\n",
            "927 5th St, New York City, NY 10001\n",
            "28 South St, Los Angeles, CA 90001\n",
            "28 South St, Los Angeles, CA 90001\n",
            "628 12th St, Los Angeles, CA 90001\n",
            "964 8th St, San Francisco, CA 94016\n",
            "57 Wilson St, Atlanta, GA 30301\n",
            "354 14th St, New York City, NY 10001\n",
            "481 Maple St, San Francisco, CA 94016\n",
            "192 7th St, Seattle, WA 98101\n",
            "936 9th St, Los Angeles, CA 90001\n",
            "958 Walnut St, Los Angeles, CA 90001\n",
            "965 Elm St, San Francisco, CA 94016\n",
            "903 Wilson St, San Francisco, CA 94016\n",
            "781 Wilson St, Los Angeles, CA 90001\n",
            "375 Jefferson St, Los Angeles, CA 90001\n",
            "776 Spruce St, Austin, TX 73301\n",
            "806 Willow St, Boston, MA 02215\n",
            "899 7th St, Dallas, TX 75001\n",
            "623 5th St, Los Angeles, CA 90001\n",
            "885 Jefferson St, Dallas, TX 75001\n",
            "742 Maple St, Dallas, TX 75001\n",
            "987 9th St, New York City, NY 10001\n",
            "398 Pine St, Los Angeles, CA 90001\n",
            "918 Maple St, Dallas, TX 75001\n",
            "61 7th St, New York City, NY 10001\n",
            "277 Johnson St, Seattle, WA 98101\n",
            "713 Sunset St, New York City, NY 10001\n",
            "412 Church St, New York City, NY 10001\n",
            "2 4th St, San Francisco, CA 94016\n",
            "606 Walnut St, Seattle, WA 98101\n",
            "542 Cedar St, San Francisco, CA 94016\n",
            "216 Chestnut St, Los Angeles, CA 90001\n",
            "216 Chestnut St, Los Angeles, CA 90001\n",
            "320 Adams St, New York City, NY 10001\n",
            "565 Madison St, Los Angeles, CA 90001\n",
            "708 Cedar St, San Francisco, CA 94016\n",
            "892 5th St, Austin, TX 73301\n",
            "472 Pine St, San Francisco, CA 94016\n",
            "456 Jefferson St, Atlanta, GA 30301\n",
            "404 Church St, Boston, MA 02215\n",
            "60 Adams St, San Francisco, CA 94016\n",
            "448 11th St, Los Angeles, CA 90001\n",
            "307 7th St, San Francisco, CA 94016\n",
            "915 Park St, San Francisco, CA 94016\n",
            "268 Johnson St, Los Angeles, CA 90001\n",
            "236 North St, Los Angeles, CA 90001\n",
            "125 Park St, San Francisco, CA 94016\n",
            "135 Jefferson St, San Francisco, CA 94016\n",
            "632 Sunset St, San Francisco, CA 94016\n",
            "167 2nd St, San Francisco, CA 94016\n",
            "485 7th St, San Francisco, CA 94016\n",
            "265 Spruce St, Atlanta, GA 30301\n",
            "876 Hill St, San Francisco, CA 94016\n",
            "658 West St, New York City, NY 10001\n",
            "817 4th St, Atlanta, GA 30301\n",
            "570 1st St, New York City, NY 10001\n",
            "406 12th St, Los Angeles, CA 90001\n",
            "258 Johnson St, New York City, NY 10001\n",
            "432 5th St, New York City, NY 10001\n",
            "154 Dogwood St, San Francisco, CA 94016\n",
            "510 Elm St, Boston, MA 02215\n",
            "777 Adams St, Boston, MA 02215\n",
            "532 Walnut St, San Francisco, CA 94016\n",
            "5 Adams St, Boston, MA 02215\n",
            "800 Jackson St, Atlanta, GA 30301\n",
            "Purchase Address\n"
          ]
        },
        {
          "output_type": "error",
          "ename": "IndexError",
          "evalue": "ignored",
          "traceback": [
            "\u001b[0;31m---------------------------------------------------------------------------\u001b[0m",
            "\u001b[0;31mIndexError\u001b[0m                                Traceback (most recent call last)",
            "\u001b[0;32m<ipython-input-45-4ae86f66b67a>\u001b[0m in \u001b[0;36m<module>\u001b[0;34m\u001b[0m\n\u001b[1;32m      1\u001b[0m \u001b[0;32mfor\u001b[0m \u001b[0mi\u001b[0m\u001b[0;34m,\u001b[0m \u001b[0mrow\u001b[0m \u001b[0;32min\u001b[0m \u001b[0mventes\u001b[0m\u001b[0;34m.\u001b[0m\u001b[0miterrows\u001b[0m\u001b[0;34m(\u001b[0m\u001b[0;34m)\u001b[0m\u001b[0;34m:\u001b[0m\u001b[0;34m\u001b[0m\u001b[0;34m\u001b[0m\u001b[0m\n\u001b[1;32m      2\u001b[0m   \u001b[0mprint\u001b[0m\u001b[0;34m(\u001b[0m\u001b[0mrow\u001b[0m\u001b[0;34m[\u001b[0m\u001b[0;34m\"Purchase Address\"\u001b[0m\u001b[0;34m]\u001b[0m\u001b[0;34m)\u001b[0m\u001b[0;34m\u001b[0m\u001b[0;34m\u001b[0m\u001b[0m\n\u001b[0;32m----> 3\u001b[0;31m   \u001b[0mv\u001b[0m \u001b[0;34m=\u001b[0m \u001b[0mville\u001b[0m\u001b[0;34m(\u001b[0m\u001b[0mrow\u001b[0m\u001b[0;34m[\u001b[0m\u001b[0;34m'Purchase Address'\u001b[0m\u001b[0;34m]\u001b[0m\u001b[0;34m)\u001b[0m\u001b[0;34m\u001b[0m\u001b[0;34m\u001b[0m\u001b[0m\n\u001b[0m",
            "\u001b[0;32m<ipython-input-42-76c5bb6ad7f8>\u001b[0m in \u001b[0;36mville\u001b[0;34m(adress)\u001b[0m\n\u001b[1;32m      1\u001b[0m \u001b[0;32mdef\u001b[0m \u001b[0mville\u001b[0m\u001b[0;34m(\u001b[0m\u001b[0madress\u001b[0m\u001b[0;34m)\u001b[0m\u001b[0;34m:\u001b[0m\u001b[0;34m\u001b[0m\u001b[0;34m\u001b[0m\u001b[0m\n\u001b[0;32m----> 2\u001b[0;31m   \u001b[0;32mreturn\u001b[0m \u001b[0madress\u001b[0m\u001b[0;34m.\u001b[0m\u001b[0msplit\u001b[0m\u001b[0;34m(\u001b[0m\u001b[0;34m','\u001b[0m\u001b[0;34m)\u001b[0m\u001b[0;34m[\u001b[0m\u001b[0;36m1\u001b[0m\u001b[0;34m]\u001b[0m\u001b[0;34m.\u001b[0m\u001b[0mstrip\u001b[0m\u001b[0;34m(\u001b[0m\u001b[0;34m)\u001b[0m\u001b[0;34m\u001b[0m\u001b[0;34m\u001b[0m\u001b[0m\n\u001b[0m",
            "\u001b[0;31mIndexError\u001b[0m: list index out of range"
          ]
        }
      ]
    },
    {
      "cell_type": "code",
      "source": [
        "betise = ventes[ventes['Purchase Address'] == \"Purchase Address\"].index.tolist()"
      ],
      "metadata": {
        "id": "Ed2cM1q3p-aA"
      },
      "execution_count": null,
      "outputs": []
    },
    {
      "cell_type": "code",
      "source": [
        "ventes = ventes.drop(betise)"
      ],
      "metadata": {
        "id": "TDLlpSmdqtq3"
      },
      "execution_count": null,
      "outputs": []
    },
    {
      "cell_type": "code",
      "source": [
        "ventes['Purchase Address'].apply(ville)"
      ],
      "metadata": {
        "colab": {
          "base_uri": "https://localhost:8080/"
        },
        "id": "r2AaiBxBqth5",
        "outputId": "40c75cb6-5d2e-4b06-c5a4-8ed47597ca8e"
      },
      "execution_count": null,
      "outputs": [
        {
          "output_type": "execute_result",
          "data": {
            "text/plain": [
              "0                Dallas\n",
              "2                Boston\n",
              "3           Los Angeles\n",
              "4           Los Angeles\n",
              "5           Los Angeles\n",
              "              ...      \n",
              "186845      Los Angeles\n",
              "186846    San Francisco\n",
              "186847    San Francisco\n",
              "186848    San Francisco\n",
              "186849    San Francisco\n",
              "Name: Purchase Address, Length: 185950, dtype: object"
            ]
          },
          "metadata": {},
          "execution_count": 50
        }
      ]
    },
    {
      "cell_type": "code",
      "source": [
        "ventes.head()"
      ],
      "metadata": {
        "colab": {
          "base_uri": "https://localhost:8080/",
          "height": 354
        },
        "id": "7i5V1wN9rDML",
        "outputId": "59c51284-6fdd-4975-c932-2bf37329e09c"
      },
      "execution_count": null,
      "outputs": [
        {
          "output_type": "execute_result",
          "data": {
            "text/plain": [
              "  Order ID                     Product Quantity Ordered Price Each  \\\n",
              "0   176558        USB-C Charging Cable                2      11.95   \n",
              "2   176559  Bose SoundSport Headphones                1      99.99   \n",
              "3   176560                Google Phone                1        600   \n",
              "4   176560            Wired Headphones                1      11.99   \n",
              "5   176561            Wired Headphones                1      11.99   \n",
              "\n",
              "       Order Date                      Purchase Address  \n",
              "0  04/19/19 08:46          917 1st St, Dallas, TX 75001  \n",
              "2  04/07/19 22:30     682 Chestnut St, Boston, MA 02215  \n",
              "3  04/12/19 14:38  669 Spruce St, Los Angeles, CA 90001  \n",
              "4  04/12/19 14:38  669 Spruce St, Los Angeles, CA 90001  \n",
              "5  04/30/19 09:27     333 8th St, Los Angeles, CA 90001  "
            ],
            "text/html": [
              "\n",
              "  <div id=\"df-d68300f4-f8a3-444d-8329-b610de6858ad\">\n",
              "    <div class=\"colab-df-container\">\n",
              "      <div>\n",
              "<style scoped>\n",
              "    .dataframe tbody tr th:only-of-type {\n",
              "        vertical-align: middle;\n",
              "    }\n",
              "\n",
              "    .dataframe tbody tr th {\n",
              "        vertical-align: top;\n",
              "    }\n",
              "\n",
              "    .dataframe thead th {\n",
              "        text-align: right;\n",
              "    }\n",
              "</style>\n",
              "<table border=\"1\" class=\"dataframe\">\n",
              "  <thead>\n",
              "    <tr style=\"text-align: right;\">\n",
              "      <th></th>\n",
              "      <th>Order ID</th>\n",
              "      <th>Product</th>\n",
              "      <th>Quantity Ordered</th>\n",
              "      <th>Price Each</th>\n",
              "      <th>Order Date</th>\n",
              "      <th>Purchase Address</th>\n",
              "    </tr>\n",
              "  </thead>\n",
              "  <tbody>\n",
              "    <tr>\n",
              "      <th>0</th>\n",
              "      <td>176558</td>\n",
              "      <td>USB-C Charging Cable</td>\n",
              "      <td>2</td>\n",
              "      <td>11.95</td>\n",
              "      <td>04/19/19 08:46</td>\n",
              "      <td>917 1st St, Dallas, TX 75001</td>\n",
              "    </tr>\n",
              "    <tr>\n",
              "      <th>2</th>\n",
              "      <td>176559</td>\n",
              "      <td>Bose SoundSport Headphones</td>\n",
              "      <td>1</td>\n",
              "      <td>99.99</td>\n",
              "      <td>04/07/19 22:30</td>\n",
              "      <td>682 Chestnut St, Boston, MA 02215</td>\n",
              "    </tr>\n",
              "    <tr>\n",
              "      <th>3</th>\n",
              "      <td>176560</td>\n",
              "      <td>Google Phone</td>\n",
              "      <td>1</td>\n",
              "      <td>600</td>\n",
              "      <td>04/12/19 14:38</td>\n",
              "      <td>669 Spruce St, Los Angeles, CA 90001</td>\n",
              "    </tr>\n",
              "    <tr>\n",
              "      <th>4</th>\n",
              "      <td>176560</td>\n",
              "      <td>Wired Headphones</td>\n",
              "      <td>1</td>\n",
              "      <td>11.99</td>\n",
              "      <td>04/12/19 14:38</td>\n",
              "      <td>669 Spruce St, Los Angeles, CA 90001</td>\n",
              "    </tr>\n",
              "    <tr>\n",
              "      <th>5</th>\n",
              "      <td>176561</td>\n",
              "      <td>Wired Headphones</td>\n",
              "      <td>1</td>\n",
              "      <td>11.99</td>\n",
              "      <td>04/30/19 09:27</td>\n",
              "      <td>333 8th St, Los Angeles, CA 90001</td>\n",
              "    </tr>\n",
              "  </tbody>\n",
              "</table>\n",
              "</div>\n",
              "      <button class=\"colab-df-convert\" onclick=\"convertToInteractive('df-d68300f4-f8a3-444d-8329-b610de6858ad')\"\n",
              "              title=\"Convert this dataframe to an interactive table.\"\n",
              "              style=\"display:none;\">\n",
              "        \n",
              "  <svg xmlns=\"http://www.w3.org/2000/svg\" height=\"24px\"viewBox=\"0 0 24 24\"\n",
              "       width=\"24px\">\n",
              "    <path d=\"M0 0h24v24H0V0z\" fill=\"none\"/>\n",
              "    <path d=\"M18.56 5.44l.94 2.06.94-2.06 2.06-.94-2.06-.94-.94-2.06-.94 2.06-2.06.94zm-11 1L8.5 8.5l.94-2.06 2.06-.94-2.06-.94L8.5 2.5l-.94 2.06-2.06.94zm10 10l.94 2.06.94-2.06 2.06-.94-2.06-.94-.94-2.06-.94 2.06-2.06.94z\"/><path d=\"M17.41 7.96l-1.37-1.37c-.4-.4-.92-.59-1.43-.59-.52 0-1.04.2-1.43.59L10.3 9.45l-7.72 7.72c-.78.78-.78 2.05 0 2.83L4 21.41c.39.39.9.59 1.41.59.51 0 1.02-.2 1.41-.59l7.78-7.78 2.81-2.81c.8-.78.8-2.07 0-2.86zM5.41 20L4 18.59l7.72-7.72 1.47 1.35L5.41 20z\"/>\n",
              "  </svg>\n",
              "      </button>\n",
              "      \n",
              "  <style>\n",
              "    .colab-df-container {\n",
              "      display:flex;\n",
              "      flex-wrap:wrap;\n",
              "      gap: 12px;\n",
              "    }\n",
              "\n",
              "    .colab-df-convert {\n",
              "      background-color: #E8F0FE;\n",
              "      border: none;\n",
              "      border-radius: 50%;\n",
              "      cursor: pointer;\n",
              "      display: none;\n",
              "      fill: #1967D2;\n",
              "      height: 32px;\n",
              "      padding: 0 0 0 0;\n",
              "      width: 32px;\n",
              "    }\n",
              "\n",
              "    .colab-df-convert:hover {\n",
              "      background-color: #E2EBFA;\n",
              "      box-shadow: 0px 1px 2px rgba(60, 64, 67, 0.3), 0px 1px 3px 1px rgba(60, 64, 67, 0.15);\n",
              "      fill: #174EA6;\n",
              "    }\n",
              "\n",
              "    [theme=dark] .colab-df-convert {\n",
              "      background-color: #3B4455;\n",
              "      fill: #D2E3FC;\n",
              "    }\n",
              "\n",
              "    [theme=dark] .colab-df-convert:hover {\n",
              "      background-color: #434B5C;\n",
              "      box-shadow: 0px 1px 3px 1px rgba(0, 0, 0, 0.15);\n",
              "      filter: drop-shadow(0px 1px 2px rgba(0, 0, 0, 0.3));\n",
              "      fill: #FFFFFF;\n",
              "    }\n",
              "  </style>\n",
              "\n",
              "      <script>\n",
              "        const buttonEl =\n",
              "          document.querySelector('#df-d68300f4-f8a3-444d-8329-b610de6858ad button.colab-df-convert');\n",
              "        buttonEl.style.display =\n",
              "          google.colab.kernel.accessAllowed ? 'block' : 'none';\n",
              "\n",
              "        async function convertToInteractive(key) {\n",
              "          const element = document.querySelector('#df-d68300f4-f8a3-444d-8329-b610de6858ad');\n",
              "          const dataTable =\n",
              "            await google.colab.kernel.invokeFunction('convertToInteractive',\n",
              "                                                     [key], {});\n",
              "          if (!dataTable) return;\n",
              "\n",
              "          const docLinkHtml = 'Like what you see? Visit the ' +\n",
              "            '<a target=\"_blank\" href=https://colab.research.google.com/notebooks/data_table.ipynb>data table notebook</a>'\n",
              "            + ' to learn more about interactive tables.';\n",
              "          element.innerHTML = '';\n",
              "          dataTable['output_type'] = 'display_data';\n",
              "          await google.colab.output.renderOutput(dataTable, element);\n",
              "          const docLink = document.createElement('div');\n",
              "          docLink.innerHTML = docLinkHtml;\n",
              "          element.appendChild(docLink);\n",
              "        }\n",
              "      </script>\n",
              "    </div>\n",
              "  </div>\n",
              "  "
            ]
          },
          "metadata": {},
          "execution_count": 51
        }
      ]
    },
    {
      "cell_type": "code",
      "source": [
        "ventes['Ville'] = ventes['Purchase Address'].apply(ville)"
      ],
      "metadata": {
        "id": "GgavIzTyhUWv"
      },
      "execution_count": null,
      "outputs": []
    },
    {
      "cell_type": "code",
      "source": [
        "ventes.head()"
      ],
      "metadata": {
        "colab": {
          "base_uri": "https://localhost:8080/",
          "height": 354
        },
        "id": "-pBXNdb0rRD8",
        "outputId": "a498f412-1362-4b3f-9526-59d20443f97a"
      },
      "execution_count": null,
      "outputs": [
        {
          "output_type": "execute_result",
          "data": {
            "text/plain": [
              "  Order ID                     Product Quantity Ordered Price Each  \\\n",
              "0   176558        USB-C Charging Cable                2      11.95   \n",
              "2   176559  Bose SoundSport Headphones                1      99.99   \n",
              "3   176560                Google Phone                1        600   \n",
              "4   176560            Wired Headphones                1      11.99   \n",
              "5   176561            Wired Headphones                1      11.99   \n",
              "\n",
              "       Order Date                      Purchase Address        Ville  \n",
              "0  04/19/19 08:46          917 1st St, Dallas, TX 75001       Dallas  \n",
              "2  04/07/19 22:30     682 Chestnut St, Boston, MA 02215       Boston  \n",
              "3  04/12/19 14:38  669 Spruce St, Los Angeles, CA 90001  Los Angeles  \n",
              "4  04/12/19 14:38  669 Spruce St, Los Angeles, CA 90001  Los Angeles  \n",
              "5  04/30/19 09:27     333 8th St, Los Angeles, CA 90001  Los Angeles  "
            ],
            "text/html": [
              "\n",
              "  <div id=\"df-a57f2095-aef3-4126-8761-a1e2fb1fecce\">\n",
              "    <div class=\"colab-df-container\">\n",
              "      <div>\n",
              "<style scoped>\n",
              "    .dataframe tbody tr th:only-of-type {\n",
              "        vertical-align: middle;\n",
              "    }\n",
              "\n",
              "    .dataframe tbody tr th {\n",
              "        vertical-align: top;\n",
              "    }\n",
              "\n",
              "    .dataframe thead th {\n",
              "        text-align: right;\n",
              "    }\n",
              "</style>\n",
              "<table border=\"1\" class=\"dataframe\">\n",
              "  <thead>\n",
              "    <tr style=\"text-align: right;\">\n",
              "      <th></th>\n",
              "      <th>Order ID</th>\n",
              "      <th>Product</th>\n",
              "      <th>Quantity Ordered</th>\n",
              "      <th>Price Each</th>\n",
              "      <th>Order Date</th>\n",
              "      <th>Purchase Address</th>\n",
              "      <th>Ville</th>\n",
              "    </tr>\n",
              "  </thead>\n",
              "  <tbody>\n",
              "    <tr>\n",
              "      <th>0</th>\n",
              "      <td>176558</td>\n",
              "      <td>USB-C Charging Cable</td>\n",
              "      <td>2</td>\n",
              "      <td>11.95</td>\n",
              "      <td>04/19/19 08:46</td>\n",
              "      <td>917 1st St, Dallas, TX 75001</td>\n",
              "      <td>Dallas</td>\n",
              "    </tr>\n",
              "    <tr>\n",
              "      <th>2</th>\n",
              "      <td>176559</td>\n",
              "      <td>Bose SoundSport Headphones</td>\n",
              "      <td>1</td>\n",
              "      <td>99.99</td>\n",
              "      <td>04/07/19 22:30</td>\n",
              "      <td>682 Chestnut St, Boston, MA 02215</td>\n",
              "      <td>Boston</td>\n",
              "    </tr>\n",
              "    <tr>\n",
              "      <th>3</th>\n",
              "      <td>176560</td>\n",
              "      <td>Google Phone</td>\n",
              "      <td>1</td>\n",
              "      <td>600</td>\n",
              "      <td>04/12/19 14:38</td>\n",
              "      <td>669 Spruce St, Los Angeles, CA 90001</td>\n",
              "      <td>Los Angeles</td>\n",
              "    </tr>\n",
              "    <tr>\n",
              "      <th>4</th>\n",
              "      <td>176560</td>\n",
              "      <td>Wired Headphones</td>\n",
              "      <td>1</td>\n",
              "      <td>11.99</td>\n",
              "      <td>04/12/19 14:38</td>\n",
              "      <td>669 Spruce St, Los Angeles, CA 90001</td>\n",
              "      <td>Los Angeles</td>\n",
              "    </tr>\n",
              "    <tr>\n",
              "      <th>5</th>\n",
              "      <td>176561</td>\n",
              "      <td>Wired Headphones</td>\n",
              "      <td>1</td>\n",
              "      <td>11.99</td>\n",
              "      <td>04/30/19 09:27</td>\n",
              "      <td>333 8th St, Los Angeles, CA 90001</td>\n",
              "      <td>Los Angeles</td>\n",
              "    </tr>\n",
              "  </tbody>\n",
              "</table>\n",
              "</div>\n",
              "      <button class=\"colab-df-convert\" onclick=\"convertToInteractive('df-a57f2095-aef3-4126-8761-a1e2fb1fecce')\"\n",
              "              title=\"Convert this dataframe to an interactive table.\"\n",
              "              style=\"display:none;\">\n",
              "        \n",
              "  <svg xmlns=\"http://www.w3.org/2000/svg\" height=\"24px\"viewBox=\"0 0 24 24\"\n",
              "       width=\"24px\">\n",
              "    <path d=\"M0 0h24v24H0V0z\" fill=\"none\"/>\n",
              "    <path d=\"M18.56 5.44l.94 2.06.94-2.06 2.06-.94-2.06-.94-.94-2.06-.94 2.06-2.06.94zm-11 1L8.5 8.5l.94-2.06 2.06-.94-2.06-.94L8.5 2.5l-.94 2.06-2.06.94zm10 10l.94 2.06.94-2.06 2.06-.94-2.06-.94-.94-2.06-.94 2.06-2.06.94z\"/><path d=\"M17.41 7.96l-1.37-1.37c-.4-.4-.92-.59-1.43-.59-.52 0-1.04.2-1.43.59L10.3 9.45l-7.72 7.72c-.78.78-.78 2.05 0 2.83L4 21.41c.39.39.9.59 1.41.59.51 0 1.02-.2 1.41-.59l7.78-7.78 2.81-2.81c.8-.78.8-2.07 0-2.86zM5.41 20L4 18.59l7.72-7.72 1.47 1.35L5.41 20z\"/>\n",
              "  </svg>\n",
              "      </button>\n",
              "      \n",
              "  <style>\n",
              "    .colab-df-container {\n",
              "      display:flex;\n",
              "      flex-wrap:wrap;\n",
              "      gap: 12px;\n",
              "    }\n",
              "\n",
              "    .colab-df-convert {\n",
              "      background-color: #E8F0FE;\n",
              "      border: none;\n",
              "      border-radius: 50%;\n",
              "      cursor: pointer;\n",
              "      display: none;\n",
              "      fill: #1967D2;\n",
              "      height: 32px;\n",
              "      padding: 0 0 0 0;\n",
              "      width: 32px;\n",
              "    }\n",
              "\n",
              "    .colab-df-convert:hover {\n",
              "      background-color: #E2EBFA;\n",
              "      box-shadow: 0px 1px 2px rgba(60, 64, 67, 0.3), 0px 1px 3px 1px rgba(60, 64, 67, 0.15);\n",
              "      fill: #174EA6;\n",
              "    }\n",
              "\n",
              "    [theme=dark] .colab-df-convert {\n",
              "      background-color: #3B4455;\n",
              "      fill: #D2E3FC;\n",
              "    }\n",
              "\n",
              "    [theme=dark] .colab-df-convert:hover {\n",
              "      background-color: #434B5C;\n",
              "      box-shadow: 0px 1px 3px 1px rgba(0, 0, 0, 0.15);\n",
              "      filter: drop-shadow(0px 1px 2px rgba(0, 0, 0, 0.3));\n",
              "      fill: #FFFFFF;\n",
              "    }\n",
              "  </style>\n",
              "\n",
              "      <script>\n",
              "        const buttonEl =\n",
              "          document.querySelector('#df-a57f2095-aef3-4126-8761-a1e2fb1fecce button.colab-df-convert');\n",
              "        buttonEl.style.display =\n",
              "          google.colab.kernel.accessAllowed ? 'block' : 'none';\n",
              "\n",
              "        async function convertToInteractive(key) {\n",
              "          const element = document.querySelector('#df-a57f2095-aef3-4126-8761-a1e2fb1fecce');\n",
              "          const dataTable =\n",
              "            await google.colab.kernel.invokeFunction('convertToInteractive',\n",
              "                                                     [key], {});\n",
              "          if (!dataTable) return;\n",
              "\n",
              "          const docLinkHtml = 'Like what you see? Visit the ' +\n",
              "            '<a target=\"_blank\" href=https://colab.research.google.com/notebooks/data_table.ipynb>data table notebook</a>'\n",
              "            + ' to learn more about interactive tables.';\n",
              "          element.innerHTML = '';\n",
              "          dataTable['output_type'] = 'display_data';\n",
              "          await google.colab.output.renderOutput(dataTable, element);\n",
              "          const docLink = document.createElement('div');\n",
              "          docLink.innerHTML = docLinkHtml;\n",
              "          element.appendChild(docLink);\n",
              "        }\n",
              "      </script>\n",
              "    </div>\n",
              "  </div>\n",
              "  "
            ]
          },
          "metadata": {},
          "execution_count": 53
        }
      ]
    },
    {
      "cell_type": "code",
      "source": [
        "ventes['Ville'].unique()"
      ],
      "metadata": {
        "colab": {
          "base_uri": "https://localhost:8080/"
        },
        "id": "s-86STlJrTTp",
        "outputId": "a7d77473-c103-4322-db90-baa972a304fd"
      },
      "execution_count": null,
      "outputs": [
        {
          "output_type": "execute_result",
          "data": {
            "text/plain": [
              "array(['Dallas', 'Boston', 'Los Angeles', 'San Francisco', 'Seattle',\n",
              "       'Atlanta', 'New York City', 'Portland', 'Austin'], dtype=object)"
            ]
          },
          "metadata": {},
          "execution_count": 55
        }
      ]
    },
    {
      "cell_type": "code",
      "source": [
        "ventes['Ville'].value_counts()"
      ],
      "metadata": {
        "colab": {
          "base_uri": "https://localhost:8080/"
        },
        "id": "yxgUU63Nrbqn",
        "outputId": "ea4f5537-2214-47dc-8b7f-b91d4c2fed2a"
      },
      "execution_count": null,
      "outputs": [
        {
          "output_type": "execute_result",
          "data": {
            "text/plain": [
              "San Francisco    44732\n",
              "Los Angeles      29605\n",
              "New York City    24876\n",
              "Boston           19934\n",
              "Atlanta          14881\n",
              "Dallas           14820\n",
              "Seattle          14732\n",
              "Portland         12465\n",
              "Austin            9905\n",
              "Name: Ville, dtype: int64"
            ]
          },
          "metadata": {},
          "execution_count": 56
        }
      ]
    },
    {
      "cell_type": "code",
      "source": [
        "import matplotlib.pyplot as plt\n",
        "\n",
        "plt.figure(figsize=(10, 8))\n",
        "ventes['Ville'].value_counts().plot.bar()\n",
        "plt.title('Villes et ventes')\n",
        "plt.ylabel('Nombre de ventes')\n",
        "plt.xlabel(\"Villes\")\n",
        "plt.savefig('ventes_villes.png')\n",
        "plt.show()"
      ],
      "metadata": {
        "colab": {
          "base_uri": "https://localhost:8080/",
          "height": 571
        },
        "id": "Ht7lpx0Zri7-",
        "outputId": "a65715ad-b1f3-47df-afa2-e7031c21e90f"
      },
      "execution_count": null,
      "outputs": [
        {
          "output_type": "display_data",
          "data": {
            "text/plain": [
              "<Figure size 720x576 with 1 Axes>"
            ],
            "image/png": "[encoded data removed]"
          },
          "metadata": {
            "needs_background": "light"
          }
        }
      ]
    },
    {
      "cell_type": "code",
      "source": [
        "ventes['Ville'].value_counts().plot(kind='pie')"
      ],
      "metadata": {
        "colab": {
          "base_uri": "https://localhost:8080/",
          "height": 265
        },
        "id": "4Nb3xjqcroy5",
        "outputId": "fd0c1dca-a698-4404-afa2-ec0ec2ef8a3e"
      },
      "execution_count": null,
      "outputs": [
        {
          "output_type": "execute_result",
          "data": {
            "text/plain": [
              "<AxesSubplot:ylabel='Ville'>"
            ]
          },
          "metadata": {},
          "execution_count": 62
        },
        {
          "output_type": "display_data",
          "data": {
            "text/plain": [
              "<Figure size 432x288 with 1 Axes>"
            ],
            "image/png": "[encoded data removed]"
          },
          "metadata": {}
        }
      ]
    },
    {
      "cell_type": "code",
      "source": [
        "ventes"
      ],
      "metadata": {
        "colab": {
          "base_uri": "https://localhost:8080/",
          "height": 659
        },
        "id": "ypIHN7PJsu-W",
        "outputId": "2af6fffc-32d5-41c8-c6f9-7807f27e2fa7"
      },
      "execution_count": null,
      "outputs": [
        {
          "output_type": "execute_result",
          "data": {
            "text/plain": [
              "       Order ID                     Product Quantity Ordered Price Each  \\\n",
              "0        176558        USB-C Charging Cable                2      11.95   \n",
              "2        176559  Bose SoundSport Headphones                1      99.99   \n",
              "3        176560                Google Phone                1        600   \n",
              "4        176560            Wired Headphones                1      11.99   \n",
              "5        176561            Wired Headphones                1      11.99   \n",
              "...         ...                         ...              ...        ...   \n",
              "186845   259353      AAA Batteries (4-pack)                3       2.99   \n",
              "186846   259354                      iPhone                1        700   \n",
              "186847   259355                      iPhone                1        700   \n",
              "186848   259356      34in Ultrawide Monitor                1     379.99   \n",
              "186849   259357        USB-C Charging Cable                1      11.95   \n",
              "\n",
              "            Order Date                         Purchase Address          Ville  \n",
              "0       04/19/19 08:46             917 1st St, Dallas, TX 75001         Dallas  \n",
              "2       04/07/19 22:30        682 Chestnut St, Boston, MA 02215         Boston  \n",
              "3       04/12/19 14:38     669 Spruce St, Los Angeles, CA 90001    Los Angeles  \n",
              "4       04/12/19 14:38     669 Spruce St, Los Angeles, CA 90001    Los Angeles  \n",
              "5       04/30/19 09:27        333 8th St, Los Angeles, CA 90001    Los Angeles  \n",
              "...                ...                                      ...            ...  \n",
              "186845  09/17/19 20:56   840 Highland St, Los Angeles, CA 90001    Los Angeles  \n",
              "186846  09/01/19 16:00  216 Dogwood St, San Francisco, CA 94016  San Francisco  \n",
              "186847  09/23/19 07:39     220 12th St, San Francisco, CA 94016  San Francisco  \n",
              "186848  09/19/19 17:30   511 Forest St, San Francisco, CA 94016  San Francisco  \n",
              "186849  09/30/19 00:18   250 Meadow St, San Francisco, CA 94016  San Francisco  \n",
              "\n",
              "[185950 rows x 7 columns]"
            ],
            "text/html": [
              "\n",
              "  <div id=\"df-87a30079-2455-466a-b0da-ec497d7f7933\">\n",
              "    <div class=\"colab-df-container\">\n",
              "      <div>\n",
              "<style scoped>\n",
              "    .dataframe tbody tr th:only-of-type {\n",
              "        vertical-align: middle;\n",
              "    }\n",
              "\n",
              "    .dataframe tbody tr th {\n",
              "        vertical-align: top;\n",
              "    }\n",
              "\n",
              "    .dataframe thead th {\n",
              "        text-align: right;\n",
              "    }\n",
              "</style>\n",
              "<table border=\"1\" class=\"dataframe\">\n",
              "  <thead>\n",
              "    <tr style=\"text-align: right;\">\n",
              "      <th></th>\n",
              "      <th>Order ID</th>\n",
              "      <th>Product</th>\n",
              "      <th>Quantity Ordered</th>\n",
              "      <th>Price Each</th>\n",
              "      <th>Order Date</th>\n",
              "      <th>Purchase Address</th>\n",
              "      <th>Ville</th>\n",
              "    </tr>\n",
              "  </thead>\n",
              "  <tbody>\n",
              "    <tr>\n",
              "      <th>0</th>\n",
              "      <td>176558</td>\n",
              "      <td>USB-C Charging Cable</td>\n",
              "      <td>2</td>\n",
              "      <td>11.95</td>\n",
              "      <td>04/19/19 08:46</td>\n",
              "      <td>917 1st St, Dallas, TX 75001</td>\n",
              "      <td>Dallas</td>\n",
              "    </tr>\n",
              "    <tr>\n",
              "      <th>2</th>\n",
              "      <td>176559</td>\n",
              "      <td>Bose SoundSport Headphones</td>\n",
              "      <td>1</td>\n",
              "      <td>99.99</td>\n",
              "      <td>04/07/19 22:30</td>\n",
              "      <td>682 Chestnut St, Boston, MA 02215</td>\n",
              "      <td>Boston</td>\n",
              "    </tr>\n",
              "    <tr>\n",
              "      <th>3</th>\n",
              "      <td>176560</td>\n",
              "      <td>Google Phone</td>\n",
              "      <td>1</td>\n",
              "      <td>600</td>\n",
              "      <td>04/12/19 14:38</td>\n",
              "      <td>669 Spruce St, Los Angeles, CA 90001</td>\n",
              "      <td>Los Angeles</td>\n",
              "    </tr>\n",
              "    <tr>\n",
              "      <th>4</th>\n",
              "      <td>176560</td>\n",
              "      <td>Wired Headphones</td>\n",
              "      <td>1</td>\n",
              "      <td>11.99</td>\n",
              "      <td>04/12/19 14:38</td>\n",
              "      <td>669 Spruce St, Los Angeles, CA 90001</td>\n",
              "      <td>Los Angeles</td>\n",
              "    </tr>\n",
              "    <tr>\n",
              "      <th>5</th>\n",
              "      <td>176561</td>\n",
              "      <td>Wired Headphones</td>\n",
              "      <td>1</td>\n",
              "      <td>11.99</td>\n",
              "      <td>04/30/19 09:27</td>\n",
              "      <td>333 8th St, Los Angeles, CA 90001</td>\n",
              "      <td>Los Angeles</td>\n",
              "    </tr>\n",
              "    <tr>\n",
              "      <th>...</th>\n",
              "      <td>...</td>\n",
              "      <td>...</td>\n",
              "      <td>...</td>\n",
              "      <td>...</td>\n",
              "      <td>...</td>\n",
              "      <td>...</td>\n",
              "      <td>...</td>\n",
              "    </tr>\n",
              "    <tr>\n",
              "      <th>186845</th>\n",
              "      <td>259353</td>\n",
              "      <td>AAA Batteries (4-pack)</td>\n",
              "      <td>3</td>\n",
              "      <td>2.99</td>\n",
              "      <td>09/17/19 20:56</td>\n",
              "      <td>840 Highland St, Los Angeles, CA 90001</td>\n",
              "      <td>Los Angeles</td>\n",
              "    </tr>\n",
              "    <tr>\n",
              "      <th>186846</th>\n",
              "      <td>259354</td>\n",
              "      <td>iPhone</td>\n",
              "      <td>1</td>\n",
              "      <td>700</td>\n",
              "      <td>09/01/19 16:00</td>\n",
              "      <td>216 Dogwood St, San Francisco, CA 94016</td>\n",
              "      <td>San Francisco</td>\n",
              "    </tr>\n",
              "    <tr>\n",
              "      <th>186847</th>\n",
              "      <td>259355</td>\n",
              "      <td>iPhone</td>\n",
              "      <td>1</td>\n",
              "      <td>700</td>\n",
              "      <td>09/23/19 07:39</td>\n",
              "      <td>220 12th St, San Francisco, CA 94016</td>\n",
              "      <td>San Francisco</td>\n",
              "    </tr>\n",
              "    <tr>\n",
              "      <th>186848</th>\n",
              "      <td>259356</td>\n",
              "      <td>34in Ultrawide Monitor</td>\n",
              "      <td>1</td>\n",
              "      <td>379.99</td>\n",
              "      <td>09/19/19 17:30</td>\n",
              "      <td>511 Forest St, San Francisco, CA 94016</td>\n",
              "      <td>San Francisco</td>\n",
              "    </tr>\n",
              "    <tr>\n",
              "      <th>186849</th>\n",
              "      <td>259357</td>\n",
              "      <td>USB-C Charging Cable</td>\n",
              "      <td>1</td>\n",
              "      <td>11.95</td>\n",
              "      <td>09/30/19 00:18</td>\n",
              "      <td>250 Meadow St, San Francisco, CA 94016</td>\n",
              "      <td>San Francisco</td>\n",
              "    </tr>\n",
              "  </tbody>\n",
              "</table>\n",
              "<p>185950 rows × 7 columns</p>\n",
              "</div>\n",
              "      <button class=\"colab-df-convert\" onclick=\"convertToInteractive('df-87a30079-2455-466a-b0da-ec497d7f7933')\"\n",
              "              title=\"Convert this dataframe to an interactive table.\"\n",
              "              style=\"display:none;\">\n",
              "        \n",
              "  <svg xmlns=\"http://www.w3.org/2000/svg\" height=\"24px\"viewBox=\"0 0 24 24\"\n",
              "       width=\"24px\">\n",
              "    <path d=\"M0 0h24v24H0V0z\" fill=\"none\"/>\n",
              "    <path d=\"M18.56 5.44l.94 2.06.94-2.06 2.06-.94-2.06-.94-.94-2.06-.94 2.06-2.06.94zm-11 1L8.5 8.5l.94-2.06 2.06-.94-2.06-.94L8.5 2.5l-.94 2.06-2.06.94zm10 10l.94 2.06.94-2.06 2.06-.94-2.06-.94-.94-2.06-.94 2.06-2.06.94z\"/><path d=\"M17.41 7.96l-1.37-1.37c-.4-.4-.92-.59-1.43-.59-.52 0-1.04.2-1.43.59L10.3 9.45l-7.72 7.72c-.78.78-.78 2.05 0 2.83L4 21.41c.39.39.9.59 1.41.59.51 0 1.02-.2 1.41-.59l7.78-7.78 2.81-2.81c.8-.78.8-2.07 0-2.86zM5.41 20L4 18.59l7.72-7.72 1.47 1.35L5.41 20z\"/>\n",
              "  </svg>\n",
              "      </button>\n",
              "      \n",
              "  <style>\n",
              "    .colab-df-container {\n",
              "      display:flex;\n",
              "      flex-wrap:wrap;\n",
              "      gap: 12px;\n",
              "    }\n",
              "\n",
              "    .colab-df-convert {\n",
              "      background-color: #E8F0FE;\n",
              "      border: none;\n",
              "      border-radius: 50%;\n",
              "      cursor: pointer;\n",
              "      display: none;\n",
              "      fill: #1967D2;\n",
              "      height: 32px;\n",
              "      padding: 0 0 0 0;\n",
              "      width: 32px;\n",
              "    }\n",
              "\n",
              "    .colab-df-convert:hover {\n",
              "      background-color: #E2EBFA;\n",
              "      box-shadow: 0px 1px 2px rgba(60, 64, 67, 0.3), 0px 1px 3px 1px rgba(60, 64, 67, 0.15);\n",
              "      fill: #174EA6;\n",
              "    }\n",
              "\n",
              "    [theme=dark] .colab-df-convert {\n",
              "      background-color: #3B4455;\n",
              "      fill: #D2E3FC;\n",
              "    }\n",
              "\n",
              "    [theme=dark] .colab-df-convert:hover {\n",
              "      background-color: #434B5C;\n",
              "      box-shadow: 0px 1px 3px 1px rgba(0, 0, 0, 0.15);\n",
              "      filter: drop-shadow(0px 1px 2px rgba(0, 0, 0, 0.3));\n",
              "      fill: #FFFFFF;\n",
              "    }\n",
              "  </style>\n",
              "\n",
              "      <script>\n",
              "        const buttonEl =\n",
              "          document.querySelector('#df-87a30079-2455-466a-b0da-ec497d7f7933 button.colab-df-convert');\n",
              "        buttonEl.style.display =\n",
              "          google.colab.kernel.accessAllowed ? 'block' : 'none';\n",
              "\n",
              "        async function convertToInteractive(key) {\n",
              "          const element = document.querySelector('#df-87a30079-2455-466a-b0da-ec497d7f7933');\n",
              "          const dataTable =\n",
              "            await google.colab.kernel.invokeFunction('convertToInteractive',\n",
              "                                                     [key], {});\n",
              "          if (!dataTable) return;\n",
              "\n",
              "          const docLinkHtml = 'Like what you see? Visit the ' +\n",
              "            '<a target=\"_blank\" href=https://colab.research.google.com/notebooks/data_table.ipynb>data table notebook</a>'\n",
              "            + ' to learn more about interactive tables.';\n",
              "          element.innerHTML = '';\n",
              "          dataTable['output_type'] = 'display_data';\n",
              "          await google.colab.output.renderOutput(dataTable, element);\n",
              "          const docLink = document.createElement('div');\n",
              "          docLink.innerHTML = docLinkHtml;\n",
              "          element.appendChild(docLink);\n",
              "        }\n",
              "      </script>\n",
              "    </div>\n",
              "  </div>\n",
              "  "
            ]
          },
          "metadata": {},
          "execution_count": 63
        }
      ]
    },
    {
      "cell_type": "markdown",
      "source": [
        "Chiffre d'affaire mensuel"
      ],
      "metadata": {
        "id": "c5wv9oHKtxWa"
      }
    },
    {
      "cell_type": "code",
      "source": [
        "ventes.info()"
      ],
      "metadata": {
        "colab": {
          "base_uri": "https://localhost:8080/"
        },
        "id": "ojdu8i6etTaY",
        "outputId": "3d4c6d9f-11a3-4468-8269-190a6d4e1eb4"
      },
      "execution_count": null,
      "outputs": [
        {
          "output_type": "stream",
          "name": "stdout",
          "text": [
            "<class 'pandas.core.frame.DataFrame'>\n",
            "Int64Index: 185950 entries, 0 to 186849\n",
            "Data columns (total 7 columns):\n",
            " #   Column            Non-Null Count   Dtype \n",
            "---  ------            --------------   ----- \n",
            " 0   Order ID          185950 non-null  object\n",
            " 1   Product           185950 non-null  object\n",
            " 2   Quantity Ordered  185950 non-null  object\n",
            " 3   Price Each        185950 non-null  object\n",
            " 4   Order Date        185950 non-null  object\n",
            " 5   Purchase Address  185950 non-null  object\n",
            " 6   Ville             185950 non-null  object\n",
            "dtypes: object(7)\n",
            "memory usage: 11.3+ MB\n"
          ]
        }
      ]
    },
    {
      "cell_type": "code",
      "source": [
        "ventes['Order Date'] = pd.to_datetime(ventes['Order Date'])"
      ],
      "metadata": {
        "id": "igife8xgt2Qs"
      },
      "execution_count": null,
      "outputs": []
    },
    {
      "cell_type": "code",
      "source": [
        "ventes.info()"
      ],
      "metadata": {
        "colab": {
          "base_uri": "https://localhost:8080/"
        },
        "id": "fw1jjgYkuBsd",
        "outputId": "b763743f-59d8-4bee-d696-be40295da32f"
      },
      "execution_count": null,
      "outputs": [
        {
          "output_type": "stream",
          "name": "stdout",
          "text": [
            "<class 'pandas.core.frame.DataFrame'>\n",
            "Int64Index: 185950 entries, 0 to 186849\n",
            "Data columns (total 7 columns):\n",
            " #   Column            Non-Null Count   Dtype         \n",
            "---  ------            --------------   -----         \n",
            " 0   Order ID          185950 non-null  object        \n",
            " 1   Product           185950 non-null  object        \n",
            " 2   Quantity Ordered  185950 non-null  object        \n",
            " 3   Price Each        185950 non-null  object        \n",
            " 4   Order Date        185950 non-null  datetime64[ns]\n",
            " 5   Purchase Address  185950 non-null  object        \n",
            " 6   Ville             185950 non-null  object        \n",
            "dtypes: datetime64[ns](1), object(6)\n",
            "memory usage: 11.3+ MB\n"
          ]
        }
      ]
    },
    {
      "cell_type": "code",
      "source": [
        "ventes.head()"
      ],
      "metadata": {
        "colab": {
          "base_uri": "https://localhost:8080/",
          "height": 354
        },
        "id": "KhKVLupcuHiL",
        "outputId": "1090b570-7f88-4172-ed18-3bc6960a315b"
      },
      "execution_count": null,
      "outputs": [
        {
          "output_type": "execute_result",
          "data": {
            "text/plain": [
              "  Order ID                     Product Quantity Ordered Price Each  \\\n",
              "0   176558        USB-C Charging Cable                2      11.95   \n",
              "2   176559  Bose SoundSport Headphones                1      99.99   \n",
              "3   176560                Google Phone                1        600   \n",
              "4   176560            Wired Headphones                1      11.99   \n",
              "5   176561            Wired Headphones                1      11.99   \n",
              "\n",
              "           Order Date                      Purchase Address        Ville  \n",
              "0 2019-04-19 08:46:00          917 1st St, Dallas, TX 75001       Dallas  \n",
              "2 2019-04-07 22:30:00     682 Chestnut St, Boston, MA 02215       Boston  \n",
              "3 2019-04-12 14:38:00  669 Spruce St, Los Angeles, CA 90001  Los Angeles  \n",
              "4 2019-04-12 14:38:00  669 Spruce St, Los Angeles, CA 90001  Los Angeles  \n",
              "5 2019-04-30 09:27:00     333 8th St, Los Angeles, CA 90001  Los Angeles  "
            ],
            "text/html": [
              "\n",
              "  <div id=\"df-2ba16a82-a8fa-4e6e-b0f5-52c5573c463e\">\n",
              "    <div class=\"colab-df-container\">\n",
              "      <div>\n",
              "<style scoped>\n",
              "    .dataframe tbody tr th:only-of-type {\n",
              "        vertical-align: middle;\n",
              "    }\n",
              "\n",
              "    .dataframe tbody tr th {\n",
              "        vertical-align: top;\n",
              "    }\n",
              "\n",
              "    .dataframe thead th {\n",
              "        text-align: right;\n",
              "    }\n",
              "</style>\n",
              "<table border=\"1\" class=\"dataframe\">\n",
              "  <thead>\n",
              "    <tr style=\"text-align: right;\">\n",
              "      <th></th>\n",
              "      <th>Order ID</th>\n",
              "      <th>Product</th>\n",
              "      <th>Quantity Ordered</th>\n",
              "      <th>Price Each</th>\n",
              "      <th>Order Date</th>\n",
              "      <th>Purchase Address</th>\n",
              "      <th>Ville</th>\n",
              "    </tr>\n",
              "  </thead>\n",
              "  <tbody>\n",
              "    <tr>\n",
              "      <th>0</th>\n",
              "      <td>176558</td>\n",
              "      <td>USB-C Charging Cable</td>\n",
              "      <td>2</td>\n",
              "      <td>11.95</td>\n",
              "      <td>2019-04-19 08:46:00</td>\n",
              "      <td>917 1st St, Dallas, TX 75001</td>\n",
              "      <td>Dallas</td>\n",
              "    </tr>\n",
              "    <tr>\n",
              "      <th>2</th>\n",
              "      <td>176559</td>\n",
              "      <td>Bose SoundSport Headphones</td>\n",
              "      <td>1</td>\n",
              "      <td>99.99</td>\n",
              "      <td>2019-04-07 22:30:00</td>\n",
              "      <td>682 Chestnut St, Boston, MA 02215</td>\n",
              "      <td>Boston</td>\n",
              "    </tr>\n",
              "    <tr>\n",
              "      <th>3</th>\n",
              "      <td>176560</td>\n",
              "      <td>Google Phone</td>\n",
              "      <td>1</td>\n",
              "      <td>600</td>\n",
              "      <td>2019-04-12 14:38:00</td>\n",
              "      <td>669 Spruce St, Los Angeles, CA 90001</td>\n",
              "      <td>Los Angeles</td>\n",
              "    </tr>\n",
              "    <tr>\n",
              "      <th>4</th>\n",
              "      <td>176560</td>\n",
              "      <td>Wired Headphones</td>\n",
              "      <td>1</td>\n",
              "      <td>11.99</td>\n",
              "      <td>2019-04-12 14:38:00</td>\n",
              "      <td>669 Spruce St, Los Angeles, CA 90001</td>\n",
              "      <td>Los Angeles</td>\n",
              "    </tr>\n",
              "    <tr>\n",
              "      <th>5</th>\n",
              "      <td>176561</td>\n",
              "      <td>Wired Headphones</td>\n",
              "      <td>1</td>\n",
              "      <td>11.99</td>\n",
              "      <td>2019-04-30 09:27:00</td>\n",
              "      <td>333 8th St, Los Angeles, CA 90001</td>\n",
              "      <td>Los Angeles</td>\n",
              "    </tr>\n",
              "  </tbody>\n",
              "</table>\n",
              "</div>\n",
              "      <button class=\"colab-df-convert\" onclick=\"convertToInteractive('df-2ba16a82-a8fa-4e6e-b0f5-52c5573c463e')\"\n",
              "              title=\"Convert this dataframe to an interactive table.\"\n",
              "              style=\"display:none;\">\n",
              "        \n",
              "  <svg xmlns=\"http://www.w3.org/2000/svg\" height=\"24px\"viewBox=\"0 0 24 24\"\n",
              "       width=\"24px\">\n",
              "    <path d=\"M0 0h24v24H0V0z\" fill=\"none\"/>\n",
              "    <path d=\"M18.56 5.44l.94 2.06.94-2.06 2.06-.94-2.06-.94-.94-2.06-.94 2.06-2.06.94zm-11 1L8.5 8.5l.94-2.06 2.06-.94-2.06-.94L8.5 2.5l-.94 2.06-2.06.94zm10 10l.94 2.06.94-2.06 2.06-.94-2.06-.94-.94-2.06-.94 2.06-2.06.94z\"/><path d=\"M17.41 7.96l-1.37-1.37c-.4-.4-.92-.59-1.43-.59-.52 0-1.04.2-1.43.59L10.3 9.45l-7.72 7.72c-.78.78-.78 2.05 0 2.83L4 21.41c.39.39.9.59 1.41.59.51 0 1.02-.2 1.41-.59l7.78-7.78 2.81-2.81c.8-.78.8-2.07 0-2.86zM5.41 20L4 18.59l7.72-7.72 1.47 1.35L5.41 20z\"/>\n",
              "  </svg>\n",
              "      </button>\n",
              "      \n",
              "  <style>\n",
              "    .colab-df-container {\n",
              "      display:flex;\n",
              "      flex-wrap:wrap;\n",
              "      gap: 12px;\n",
              "    }\n",
              "\n",
              "    .colab-df-convert {\n",
              "      background-color: #E8F0FE;\n",
              "      border: none;\n",
              "      border-radius: 50%;\n",
              "      cursor: pointer;\n",
              "      display: none;\n",
              "      fill: #1967D2;\n",
              "      height: 32px;\n",
              "      padding: 0 0 0 0;\n",
              "      width: 32px;\n",
              "    }\n",
              "\n",
              "    .colab-df-convert:hover {\n",
              "      background-color: #E2EBFA;\n",
              "      box-shadow: 0px 1px 2px rgba(60, 64, 67, 0.3), 0px 1px 3px 1px rgba(60, 64, 67, 0.15);\n",
              "      fill: #174EA6;\n",
              "    }\n",
              "\n",
              "    [theme=dark] .colab-df-convert {\n",
              "      background-color: #3B4455;\n",
              "      fill: #D2E3FC;\n",
              "    }\n",
              "\n",
              "    [theme=dark] .colab-df-convert:hover {\n",
              "      background-color: #434B5C;\n",
              "      box-shadow: 0px 1px 3px 1px rgba(0, 0, 0, 0.15);\n",
              "      filter: drop-shadow(0px 1px 2px rgba(0, 0, 0, 0.3));\n",
              "      fill: #FFFFFF;\n",
              "    }\n",
              "  </style>\n",
              "\n",
              "      <script>\n",
              "        const buttonEl =\n",
              "          document.querySelector('#df-2ba16a82-a8fa-4e6e-b0f5-52c5573c463e button.colab-df-convert');\n",
              "        buttonEl.style.display =\n",
              "          google.colab.kernel.accessAllowed ? 'block' : 'none';\n",
              "\n",
              "        async function convertToInteractive(key) {\n",
              "          const element = document.querySelector('#df-2ba16a82-a8fa-4e6e-b0f5-52c5573c463e');\n",
              "          const dataTable =\n",
              "            await google.colab.kernel.invokeFunction('convertToInteractive',\n",
              "                                                     [key], {});\n",
              "          if (!dataTable) return;\n",
              "\n",
              "          const docLinkHtml = 'Like what you see? Visit the ' +\n",
              "            '<a target=\"_blank\" href=https://colab.research.google.com/notebooks/data_table.ipynb>data table notebook</a>'\n",
              "            + ' to learn more about interactive tables.';\n",
              "          element.innerHTML = '';\n",
              "          dataTable['output_type'] = 'display_data';\n",
              "          await google.colab.output.renderOutput(dataTable, element);\n",
              "          const docLink = document.createElement('div');\n",
              "          docLink.innerHTML = docLinkHtml;\n",
              "          element.appendChild(docLink);\n",
              "        }\n",
              "      </script>\n",
              "    </div>\n",
              "  </div>\n",
              "  "
            ]
          },
          "metadata": {},
          "execution_count": 67
        }
      ]
    },
    {
      "cell_type": "code",
      "source": [
        "ventes['Mois'] = ventes['Order Date'].dt.month"
      ],
      "metadata": {
        "id": "TFW2ILJDuKfz"
      },
      "execution_count": null,
      "outputs": []
    },
    {
      "cell_type": "code",
      "source": [
        "ventes.head()"
      ],
      "metadata": {
        "colab": {
          "base_uri": "https://localhost:8080/",
          "height": 354
        },
        "id": "ZCntf_FJuW-H",
        "outputId": "3293e5d6-864b-4ed1-afe5-55b297d52806"
      },
      "execution_count": null,
      "outputs": [
        {
          "output_type": "execute_result",
          "data": {
            "text/plain": [
              "  Order ID                     Product  Quantity Ordered  Price Each  \\\n",
              "0   176558        USB-C Charging Cable               2.0       11.95   \n",
              "2   176559  Bose SoundSport Headphones               1.0       99.99   \n",
              "3   176560                Google Phone               1.0      600.00   \n",
              "4   176560            Wired Headphones               1.0       11.99   \n",
              "5   176561            Wired Headphones               1.0       11.99   \n",
              "\n",
              "           Order Date                      Purchase Address        Ville  \\\n",
              "0 2019-04-19 08:46:00          917 1st St, Dallas, TX 75001       Dallas   \n",
              "2 2019-04-07 22:30:00     682 Chestnut St, Boston, MA 02215       Boston   \n",
              "3 2019-04-12 14:38:00  669 Spruce St, Los Angeles, CA 90001  Los Angeles   \n",
              "4 2019-04-12 14:38:00  669 Spruce St, Los Angeles, CA 90001  Los Angeles   \n",
              "5 2019-04-30 09:27:00     333 8th St, Los Angeles, CA 90001  Los Angeles   \n",
              "\n",
              "   Mois  Prix Total  \n",
              "0     4       23.90  \n",
              "2     4       99.99  \n",
              "3     4      600.00  \n",
              "4     4       11.99  \n",
              "5     4       11.99  "
            ],
            "text/html": [
              "\n",
              "  <div id=\"df-703ad26e-a00a-4af7-b83a-dbd60e9a440f\">\n",
              "    <div class=\"colab-df-container\">\n",
              "      <div>\n",
              "<style scoped>\n",
              "    .dataframe tbody tr th:only-of-type {\n",
              "        vertical-align: middle;\n",
              "    }\n",
              "\n",
              "    .dataframe tbody tr th {\n",
              "        vertical-align: top;\n",
              "    }\n",
              "\n",
              "    .dataframe thead th {\n",
              "        text-align: right;\n",
              "    }\n",
              "</style>\n",
              "<table border=\"1\" class=\"dataframe\">\n",
              "  <thead>\n",
              "    <tr style=\"text-align: right;\">\n",
              "      <th></th>\n",
              "      <th>Order ID</th>\n",
              "      <th>Product</th>\n",
              "      <th>Quantity Ordered</th>\n",
              "      <th>Price Each</th>\n",
              "      <th>Order Date</th>\n",
              "      <th>Purchase Address</th>\n",
              "      <th>Ville</th>\n",
              "      <th>Mois</th>\n",
              "      <th>Prix Total</th>\n",
              "    </tr>\n",
              "  </thead>\n",
              "  <tbody>\n",
              "    <tr>\n",
              "      <th>0</th>\n",
              "      <td>176558</td>\n",
              "      <td>USB-C Charging Cable</td>\n",
              "      <td>2.0</td>\n",
              "      <td>11.95</td>\n",
              "      <td>2019-04-19 08:46:00</td>\n",
              "      <td>917 1st St, Dallas, TX 75001</td>\n",
              "      <td>Dallas</td>\n",
              "      <td>4</td>\n",
              "      <td>23.90</td>\n",
              "    </tr>\n",
              "    <tr>\n",
              "      <th>2</th>\n",
              "      <td>176559</td>\n",
              "      <td>Bose SoundSport Headphones</td>\n",
              "      <td>1.0</td>\n",
              "      <td>99.99</td>\n",
              "      <td>2019-04-07 22:30:00</td>\n",
              "      <td>682 Chestnut St, Boston, MA 02215</td>\n",
              "      <td>Boston</td>\n",
              "      <td>4</td>\n",
              "      <td>99.99</td>\n",
              "    </tr>\n",
              "    <tr>\n",
              "      <th>3</th>\n",
              "      <td>176560</td>\n",
              "      <td>Google Phone</td>\n",
              "      <td>1.0</td>\n",
              "      <td>600.00</td>\n",
              "      <td>2019-04-12 14:38:00</td>\n",
              "      <td>669 Spruce St, Los Angeles, CA 90001</td>\n",
              "      <td>Los Angeles</td>\n",
              "      <td>4</td>\n",
              "      <td>600.00</td>\n",
              "    </tr>\n",
              "    <tr>\n",
              "      <th>4</th>\n",
              "      <td>176560</td>\n",
              "      <td>Wired Headphones</td>\n",
              "      <td>1.0</td>\n",
              "      <td>11.99</td>\n",
              "      <td>2019-04-12 14:38:00</td>\n",
              "      <td>669 Spruce St, Los Angeles, CA 90001</td>\n",
              "      <td>Los Angeles</td>\n",
              "      <td>4</td>\n",
              "      <td>11.99</td>\n",
              "    </tr>\n",
              "    <tr>\n",
              "      <th>5</th>\n",
              "      <td>176561</td>\n",
              "      <td>Wired Headphones</td>\n",
              "      <td>1.0</td>\n",
              "      <td>11.99</td>\n",
              "      <td>2019-04-30 09:27:00</td>\n",
              "      <td>333 8th St, Los Angeles, CA 90001</td>\n",
              "      <td>Los Angeles</td>\n",
              "      <td>4</td>\n",
              "      <td>11.99</td>\n",
              "    </tr>\n",
              "  </tbody>\n",
              "</table>\n",
              "</div>\n",
              "      <button class=\"colab-df-convert\" onclick=\"convertToInteractive('df-703ad26e-a00a-4af7-b83a-dbd60e9a440f')\"\n",
              "              title=\"Convert this dataframe to an interactive table.\"\n",
              "              style=\"display:none;\">\n",
              "        \n",
              "  <svg xmlns=\"http://www.w3.org/2000/svg\" height=\"24px\"viewBox=\"0 0 24 24\"\n",
              "       width=\"24px\">\n",
              "    <path d=\"M0 0h24v24H0V0z\" fill=\"none\"/>\n",
              "    <path d=\"M18.56 5.44l.94 2.06.94-2.06 2.06-.94-2.06-.94-.94-2.06-.94 2.06-2.06.94zm-11 1L8.5 8.5l.94-2.06 2.06-.94-2.06-.94L8.5 2.5l-.94 2.06-2.06.94zm10 10l.94 2.06.94-2.06 2.06-.94-2.06-.94-.94-2.06-.94 2.06-2.06.94z\"/><path d=\"M17.41 7.96l-1.37-1.37c-.4-.4-.92-.59-1.43-.59-.52 0-1.04.2-1.43.59L10.3 9.45l-7.72 7.72c-.78.78-.78 2.05 0 2.83L4 21.41c.39.39.9.59 1.41.59.51 0 1.02-.2 1.41-.59l7.78-7.78 2.81-2.81c.8-.78.8-2.07 0-2.86zM5.41 20L4 18.59l7.72-7.72 1.47 1.35L5.41 20z\"/>\n",
              "  </svg>\n",
              "      </button>\n",
              "      \n",
              "  <style>\n",
              "    .colab-df-container {\n",
              "      display:flex;\n",
              "      flex-wrap:wrap;\n",
              "      gap: 12px;\n",
              "    }\n",
              "\n",
              "    .colab-df-convert {\n",
              "      background-color: #E8F0FE;\n",
              "      border: none;\n",
              "      border-radius: 50%;\n",
              "      cursor: pointer;\n",
              "      display: none;\n",
              "      fill: #1967D2;\n",
              "      height: 32px;\n",
              "      padding: 0 0 0 0;\n",
              "      width: 32px;\n",
              "    }\n",
              "\n",
              "    .colab-df-convert:hover {\n",
              "      background-color: #E2EBFA;\n",
              "      box-shadow: 0px 1px 2px rgba(60, 64, 67, 0.3), 0px 1px 3px 1px rgba(60, 64, 67, 0.15);\n",
              "      fill: #174EA6;\n",
              "    }\n",
              "\n",
              "    [theme=dark] .colab-df-convert {\n",
              "      background-color: #3B4455;\n",
              "      fill: #D2E3FC;\n",
              "    }\n",
              "\n",
              "    [theme=dark] .colab-df-convert:hover {\n",
              "      background-color: #434B5C;\n",
              "      box-shadow: 0px 1px 3px 1px rgba(0, 0, 0, 0.15);\n",
              "      filter: drop-shadow(0px 1px 2px rgba(0, 0, 0, 0.3));\n",
              "      fill: #FFFFFF;\n",
              "    }\n",
              "  </style>\n",
              "\n",
              "      <script>\n",
              "        const buttonEl =\n",
              "          document.querySelector('#df-703ad26e-a00a-4af7-b83a-dbd60e9a440f button.colab-df-convert');\n",
              "        buttonEl.style.display =\n",
              "          google.colab.kernel.accessAllowed ? 'block' : 'none';\n",
              "\n",
              "        async function convertToInteractive(key) {\n",
              "          const element = document.querySelector('#df-703ad26e-a00a-4af7-b83a-dbd60e9a440f');\n",
              "          const dataTable =\n",
              "            await google.colab.kernel.invokeFunction('convertToInteractive',\n",
              "                                                     [key], {});\n",
              "          if (!dataTable) return;\n",
              "\n",
              "          const docLinkHtml = 'Like what you see? Visit the ' +\n",
              "            '<a target=\"_blank\" href=https://colab.research.google.com/notebooks/data_table.ipynb>data table notebook</a>'\n",
              "            + ' to learn more about interactive tables.';\n",
              "          element.innerHTML = '';\n",
              "          dataTable['output_type'] = 'display_data';\n",
              "          await google.colab.output.renderOutput(dataTable, element);\n",
              "          const docLink = document.createElement('div');\n",
              "          docLink.innerHTML = docLinkHtml;\n",
              "          element.appendChild(docLink);\n",
              "        }\n",
              "      </script>\n",
              "    </div>\n",
              "  </div>\n",
              "  "
            ]
          },
          "metadata": {},
          "execution_count": 81
        }
      ]
    },
    {
      "cell_type": "code",
      "source": [
        "ventes['Quantity Ordered'] = ventes['Quantity Ordered'].astype('float')\n",
        "ventes['Price Each'] = ventes['Price Each'].astype('float')"
      ],
      "metadata": {
        "id": "gHBGE3QGvJsb"
      },
      "execution_count": null,
      "outputs": []
    },
    {
      "cell_type": "code",
      "source": [
        "ventes['Prix Total'] = ventes['Quantity Ordered'] * ventes['Price Each']"
      ],
      "metadata": {
        "id": "3TaDeOfDu6jW"
      },
      "execution_count": null,
      "outputs": []
    },
    {
      "cell_type": "code",
      "source": [],
      "metadata": {
        "id": "qRcAmTFFxtxT"
      },
      "execution_count": null,
      "outputs": []
    },
    {
      "cell_type": "code",
      "source": [],
      "metadata": {
        "id": "D2by3eguxvNi"
      },
      "execution_count": null,
      "outputs": []
    },
    {
      "cell_type": "markdown",
      "source": [],
      "metadata": {
        "id": "DrTL7M32xwip"
      }
    },
    {
      "cell_type": "code",
      "source": [
        "FGJBFGBJBNFKJBNFKNGKJBGBBNDJFGKBF"
      ],
      "metadata": {
        "id": "6hseHqp1x0Je"
      },
      "execution_count": null,
      "outputs": []
    },
    {
      "cell_type": "code",
      "source": [],
      "metadata": {
        "id": "D_DJgJpMx1j3"
      },
      "execution_count": null,
      "outputs": []
    },
    {
      "cell_type": "code",
      "source": [
        "DVHVBFVDFBVDHFGHFV"
      ],
      "metadata": {
        "id": "ECK0fejixwPn"
      },
      "execution_count": null,
      "outputs": []
    },
    {
      "cell_type": "code",
      "source": [
        "ventes.head()"
      ],
      "metadata": {
        "colab": {
          "base_uri": "https://localhost:8080/",
          "height": 354
        },
        "id": "uBYN-7nfvbES",
        "outputId": "d79e2d5c-4789-414d-ca3b-71b78be134a2"
      },
      "execution_count": null,
      "outputs": [
        {
          "output_type": "execute_result",
          "data": {
            "text/plain": [
              "  Order ID                     Product  Quantity Ordered  Price Each  \\\n",
              "0   176558        USB-C Charging Cable               2.0       11.95   \n",
              "2   176559  Bose SoundSport Headphones               1.0       99.99   \n",
              "3   176560                Google Phone               1.0      600.00   \n",
              "4   176560            Wired Headphones               1.0       11.99   \n",
              "5   176561            Wired Headphones               1.0       11.99   \n",
              "\n",
              "           Order Date                      Purchase Address        Ville  \\\n",
              "0 2019-04-19 08:46:00          917 1st St, Dallas, TX 75001       Dallas   \n",
              "2 2019-04-07 22:30:00     682 Chestnut St, Boston, MA 02215       Boston   \n",
              "3 2019-04-12 14:38:00  669 Spruce St, Los Angeles, CA 90001  Los Angeles   \n",
              "4 2019-04-12 14:38:00  669 Spruce St, Los Angeles, CA 90001  Los Angeles   \n",
              "5 2019-04-30 09:27:00     333 8th St, Los Angeles, CA 90001  Los Angeles   \n",
              "\n",
              "    Mois  Prix Total  \n",
              "0  April       23.90  \n",
              "2  April       99.99  \n",
              "3  April      600.00  \n",
              "4  April       11.99  \n",
              "5  April       11.99  "
            ],
            "text/html": [
              "\n",
              "  <div id=\"df-c4645e75-2ea3-4dec-b69c-f80029970a31\">\n",
              "    <div class=\"colab-df-container\">\n",
              "      <div>\n",
              "<style scoped>\n",
              "    .dataframe tbody tr th:only-of-type {\n",
              "        vertical-align: middle;\n",
              "    }\n",
              "\n",
              "    .dataframe tbody tr th {\n",
              "        vertical-align: top;\n",
              "    }\n",
              "\n",
              "    .dataframe thead th {\n",
              "        text-align: right;\n",
              "    }\n",
              "</style>\n",
              "<table border=\"1\" class=\"dataframe\">\n",
              "  <thead>\n",
              "    <tr style=\"text-align: right;\">\n",
              "      <th></th>\n",
              "      <th>Order ID</th>\n",
              "      <th>Product</th>\n",
              "      <th>Quantity Ordered</th>\n",
              "      <th>Price Each</th>\n",
              "      <th>Order Date</th>\n",
              "      <th>Purchase Address</th>\n",
              "      <th>Ville</th>\n",
              "      <th>Mois</th>\n",
              "      <th>Prix Total</th>\n",
              "    </tr>\n",
              "  </thead>\n",
              "  <tbody>\n",
              "    <tr>\n",
              "      <th>0</th>\n",
              "      <td>176558</td>\n",
              "      <td>USB-C Charging Cable</td>\n",
              "      <td>2.0</td>\n",
              "      <td>11.95</td>\n",
              "      <td>2019-04-19 08:46:00</td>\n",
              "      <td>917 1st St, Dallas, TX 75001</td>\n",
              "      <td>Dallas</td>\n",
              "      <td>April</td>\n",
              "      <td>23.90</td>\n",
              "    </tr>\n",
              "    <tr>\n",
              "      <th>2</th>\n",
              "      <td>176559</td>\n",
              "      <td>Bose SoundSport Headphones</td>\n",
              "      <td>1.0</td>\n",
              "      <td>99.99</td>\n",
              "      <td>2019-04-07 22:30:00</td>\n",
              "      <td>682 Chestnut St, Boston, MA 02215</td>\n",
              "      <td>Boston</td>\n",
              "      <td>April</td>\n",
              "      <td>99.99</td>\n",
              "    </tr>\n",
              "    <tr>\n",
              "      <th>3</th>\n",
              "      <td>176560</td>\n",
              "      <td>Google Phone</td>\n",
              "      <td>1.0</td>\n",
              "      <td>600.00</td>\n",
              "      <td>2019-04-12 14:38:00</td>\n",
              "      <td>669 Spruce St, Los Angeles, CA 90001</td>\n",
              "      <td>Los Angeles</td>\n",
              "      <td>April</td>\n",
              "      <td>600.00</td>\n",
              "    </tr>\n",
              "    <tr>\n",
              "      <th>4</th>\n",
              "      <td>176560</td>\n",
              "      <td>Wired Headphones</td>\n",
              "      <td>1.0</td>\n",
              "      <td>11.99</td>\n",
              "      <td>2019-04-12 14:38:00</td>\n",
              "      <td>669 Spruce St, Los Angeles, CA 90001</td>\n",
              "      <td>Los Angeles</td>\n",
              "      <td>April</td>\n",
              "      <td>11.99</td>\n",
              "    </tr>\n",
              "    <tr>\n",
              "      <th>5</th>\n",
              "      <td>176561</td>\n",
              "      <td>Wired Headphones</td>\n",
              "      <td>1.0</td>\n",
              "      <td>11.99</td>\n",
              "      <td>2019-04-30 09:27:00</td>\n",
              "      <td>333 8th St, Los Angeles, CA 90001</td>\n",
              "      <td>Los Angeles</td>\n",
              "      <td>April</td>\n",
              "      <td>11.99</td>\n",
              "    </tr>\n",
              "  </tbody>\n",
              "</table>\n",
              "</div>\n",
              "      <button class=\"colab-df-convert\" onclick=\"convertToInteractive('df-c4645e75-2ea3-4dec-b69c-f80029970a31')\"\n",
              "              title=\"Convert this dataframe to an interactive table.\"\n",
              "              style=\"display:none;\">\n",
              "        \n",
              "  <svg xmlns=\"http://www.w3.org/2000/svg\" height=\"24px\"viewBox=\"0 0 24 24\"\n",
              "       width=\"24px\">\n",
              "    <path d=\"M0 0h24v24H0V0z\" fill=\"none\"/>\n",
              "    <path d=\"M18.56 5.44l.94 2.06.94-2.06 2.06-.94-2.06-.94-.94-2.06-.94 2.06-2.06.94zm-11 1L8.5 8.5l.94-2.06 2.06-.94-2.06-.94L8.5 2.5l-.94 2.06-2.06.94zm10 10l.94 2.06.94-2.06 2.06-.94-2.06-.94-.94-2.06-.94 2.06-2.06.94z\"/><path d=\"M17.41 7.96l-1.37-1.37c-.4-.4-.92-.59-1.43-.59-.52 0-1.04.2-1.43.59L10.3 9.45l-7.72 7.72c-.78.78-.78 2.05 0 2.83L4 21.41c.39.39.9.59 1.41.59.51 0 1.02-.2 1.41-.59l7.78-7.78 2.81-2.81c.8-.78.8-2.07 0-2.86zM5.41 20L4 18.59l7.72-7.72 1.47 1.35L5.41 20z\"/>\n",
              "  </svg>\n",
              "      </button>\n",
              "      \n",
              "  <style>\n",
              "    .colab-df-container {\n",
              "      display:flex;\n",
              "      flex-wrap:wrap;\n",
              "      gap: 12px;\n",
              "    }\n",
              "\n",
              "    .colab-df-convert {\n",
              "      background-color: #E8F0FE;\n",
              "      border: none;\n",
              "      border-radius: 50%;\n",
              "      cursor: pointer;\n",
              "      display: none;\n",
              "      fill: #1967D2;\n",
              "      height: 32px;\n",
              "      padding: 0 0 0 0;\n",
              "      width: 32px;\n",
              "    }\n",
              "\n",
              "    .colab-df-convert:hover {\n",
              "      background-color: #E2EBFA;\n",
              "      box-shadow: 0px 1px 2px rgba(60, 64, 67, 0.3), 0px 1px 3px 1px rgba(60, 64, 67, 0.15);\n",
              "      fill: #174EA6;\n",
              "    }\n",
              "\n",
              "    [theme=dark] .colab-df-convert {\n",
              "      background-color: #3B4455;\n",
              "      fill: #D2E3FC;\n",
              "    }\n",
              "\n",
              "    [theme=dark] .colab-df-convert:hover {\n",
              "      background-color: #434B5C;\n",
              "      box-shadow: 0px 1px 3px 1px rgba(0, 0, 0, 0.15);\n",
              "      filter: drop-shadow(0px 1px 2px rgba(0, 0, 0, 0.3));\n",
              "      fill: #FFFFFF;\n",
              "    }\n",
              "  </style>\n",
              "\n",
              "      <script>\n",
              "        const buttonEl =\n",
              "          document.querySelector('#df-c4645e75-2ea3-4dec-b69c-f80029970a31 button.colab-df-convert');\n",
              "        buttonEl.style.display =\n",
              "          google.colab.kernel.accessAllowed ? 'block' : 'none';\n",
              "\n",
              "        async function convertToInteractive(key) {\n",
              "          const element = document.querySelector('#df-c4645e75-2ea3-4dec-b69c-f80029970a31');\n",
              "          const dataTable =\n",
              "            await google.colab.kernel.invokeFunction('convertToInteractive',\n",
              "                                                     [key], {});\n",
              "          if (!dataTable) return;\n",
              "\n",
              "          const docLinkHtml = 'Like what you see? Visit the ' +\n",
              "            '<a target=\"_blank\" href=https://colab.research.google.com/notebooks/data_table.ipynb>data table notebook</a>'\n",
              "            + ' to learn more about interactive tables.';\n",
              "          element.innerHTML = '';\n",
              "          dataTable['output_type'] = 'display_data';\n",
              "          await google.colab.output.renderOutput(dataTable, element);\n",
              "          const docLink = document.createElement('div');\n",
              "          docLink.innerHTML = docLinkHtml;\n",
              "          element.appendChild(docLink);\n",
              "        }\n",
              "      </script>\n",
              "    </div>\n",
              "  </div>\n",
              "  "
            ]
          },
          "metadata": {},
          "execution_count": 77
        }
      ]
    },
    {
      "cell_type": "code",
      "source": [
        "ventes.groupby('Mois')['Prix Total'].sum().plot.barh()"
      ],
      "metadata": {
        "colab": {
          "base_uri": "https://localhost:8080/",
          "height": 295
        },
        "id": "zwvzbLFauwwD",
        "outputId": "e856ff48-2400-4492-b0b3-6515a396c115"
      },
      "execution_count": null,
      "outputs": [
        {
          "output_type": "execute_result",
          "data": {
            "text/plain": [
              "<AxesSubplot:ylabel='Mois'>"
            ]
          },
          "metadata": {},
          "execution_count": 82
        },
        {
          "output_type": "display_data",
          "data": {
            "text/plain": [
              "<Figure size 432x288 with 1 Axes>"
            ],
            "image/png": "[encoded data removed]"
          },
          "metadata": {
            "needs_background": "light"
          }
        }
      ]
    },
    {
      "cell_type": "code",
      "source": [],
      "metadata": {
        "id": "U7KZ_wiBuwkG"
      },
      "execution_count": null,
      "outputs": []
    },
    {
      "cell_type": "code",
      "source": [
        "ventes['Order Date'].dt.month_name()"
      ],
      "metadata": {
        "colab": {
          "base_uri": "https://localhost:8080/"
        },
        "id": "R-YTQJu2uZ4y",
        "outputId": "654d3bad-edab-448d-d933-122efd65bdcb"
      },
      "execution_count": null,
      "outputs": [
        {
          "output_type": "execute_result",
          "data": {
            "text/plain": [
              "0             April\n",
              "2             April\n",
              "3             April\n",
              "4             April\n",
              "5             April\n",
              "            ...    \n",
              "186845    September\n",
              "186846    September\n",
              "186847    September\n",
              "186848    September\n",
              "186849    September\n",
              "Name: Order Date, Length: 185950, dtype: object"
            ]
          },
          "metadata": {},
          "execution_count": 71
        }
      ]
    },
    {
      "cell_type": "code",
      "source": [
        "ventes"
      ],
      "metadata": {
        "colab": {
          "base_uri": "https://localhost:8080/",
          "height": 641
        },
        "id": "VgPnJHkmuf-C",
        "outputId": "69c4207a-576d-46eb-fcca-766b20cdd0b4"
      },
      "execution_count": null,
      "outputs": [
        {
          "output_type": "execute_result",
          "data": {
            "text/plain": [
              "       Order ID                     Product Quantity Ordered Price Each  \\\n",
              "0        176558        USB-C Charging Cable                2      11.95   \n",
              "1           NaN                         NaN              NaN        NaN   \n",
              "2        176559  Bose SoundSport Headphones                1      99.99   \n",
              "3        176560                Google Phone                1        600   \n",
              "4        176560            Wired Headphones                1      11.99   \n",
              "...         ...                         ...              ...        ...   \n",
              "186845   259353      AAA Batteries (4-pack)                3       2.99   \n",
              "186846   259354                      iPhone                1        700   \n",
              "186847   259355                      iPhone                1        700   \n",
              "186848   259356      34in Ultrawide Monitor                1     379.99   \n",
              "186849   259357        USB-C Charging Cable                1      11.95   \n",
              "\n",
              "            Order Date                         Purchase Address  \n",
              "0       04/19/19 08:46             917 1st St, Dallas, TX 75001  \n",
              "1                  NaN                                      NaN  \n",
              "2       04/07/19 22:30        682 Chestnut St, Boston, MA 02215  \n",
              "3       04/12/19 14:38     669 Spruce St, Los Angeles, CA 90001  \n",
              "4       04/12/19 14:38     669 Spruce St, Los Angeles, CA 90001  \n",
              "...                ...                                      ...  \n",
              "186845  09/17/19 20:56   840 Highland St, Los Angeles, CA 90001  \n",
              "186846  09/01/19 16:00  216 Dogwood St, San Francisco, CA 94016  \n",
              "186847  09/23/19 07:39     220 12th St, San Francisco, CA 94016  \n",
              "186848  09/19/19 17:30   511 Forest St, San Francisco, CA 94016  \n",
              "186849  09/30/19 00:18   250 Meadow St, San Francisco, CA 94016  \n",
              "\n",
              "[186850 rows x 6 columns]"
            ],
            "text/html": [
              "\n",
              "  <div id=\"df-851875de-aad7-4627-8c59-9735bda83dde\">\n",
              "    <div class=\"colab-df-container\">\n",
              "      <div>\n",
              "<style scoped>\n",
              "    .dataframe tbody tr th:only-of-type {\n",
              "        vertical-align: middle;\n",
              "    }\n",
              "\n",
              "    .dataframe tbody tr th {\n",
              "        vertical-align: top;\n",
              "    }\n",
              "\n",
              "    .dataframe thead th {\n",
              "        text-align: right;\n",
              "    }\n",
              "</style>\n",
              "<table border=\"1\" class=\"dataframe\">\n",
              "  <thead>\n",
              "    <tr style=\"text-align: right;\">\n",
              "      <th></th>\n",
              "      <th>Order ID</th>\n",
              "      <th>Product</th>\n",
              "      <th>Quantity Ordered</th>\n",
              "      <th>Price Each</th>\n",
              "      <th>Order Date</th>\n",
              "      <th>Purchase Address</th>\n",
              "    </tr>\n",
              "  </thead>\n",
              "  <tbody>\n",
              "    <tr>\n",
              "      <th>0</th>\n",
              "      <td>176558</td>\n",
              "      <td>USB-C Charging Cable</td>\n",
              "      <td>2</td>\n",
              "      <td>11.95</td>\n",
              "      <td>04/19/19 08:46</td>\n",
              "      <td>917 1st St, Dallas, TX 75001</td>\n",
              "    </tr>\n",
              "    <tr>\n",
              "      <th>1</th>\n",
              "      <td>NaN</td>\n",
              "      <td>NaN</td>\n",
              "      <td>NaN</td>\n",
              "      <td>NaN</td>\n",
              "      <td>NaN</td>\n",
              "      <td>NaN</td>\n",
              "    </tr>\n",
              "    <tr>\n",
              "      <th>2</th>\n",
              "      <td>176559</td>\n",
              "      <td>Bose SoundSport Headphones</td>\n",
              "      <td>1</td>\n",
              "      <td>99.99</td>\n",
              "      <td>04/07/19 22:30</td>\n",
              "      <td>682 Chestnut St, Boston, MA 02215</td>\n",
              "    </tr>\n",
              "    <tr>\n",
              "      <th>3</th>\n",
              "      <td>176560</td>\n",
              "      <td>Google Phone</td>\n",
              "      <td>1</td>\n",
              "      <td>600</td>\n",
              "      <td>04/12/19 14:38</td>\n",
              "      <td>669 Spruce St, Los Angeles, CA 90001</td>\n",
              "    </tr>\n",
              "    <tr>\n",
              "      <th>4</th>\n",
              "      <td>176560</td>\n",
              "      <td>Wired Headphones</td>\n",
              "      <td>1</td>\n",
              "      <td>11.99</td>\n",
              "      <td>04/12/19 14:38</td>\n",
              "      <td>669 Spruce St, Los Angeles, CA 90001</td>\n",
              "    </tr>\n",
              "    <tr>\n",
              "      <th>...</th>\n",
              "      <td>...</td>\n",
              "      <td>...</td>\n",
              "      <td>...</td>\n",
              "      <td>...</td>\n",
              "      <td>...</td>\n",
              "      <td>...</td>\n",
              "    </tr>\n",
              "    <tr>\n",
              "      <th>186845</th>\n",
              "      <td>259353</td>\n",
              "      <td>AAA Batteries (4-pack)</td>\n",
              "      <td>3</td>\n",
              "      <td>2.99</td>\n",
              "      <td>09/17/19 20:56</td>\n",
              "      <td>840 Highland St, Los Angeles, CA 90001</td>\n",
              "    </tr>\n",
              "    <tr>\n",
              "      <th>186846</th>\n",
              "      <td>259354</td>\n",
              "      <td>iPhone</td>\n",
              "      <td>1</td>\n",
              "      <td>700</td>\n",
              "      <td>09/01/19 16:00</td>\n",
              "      <td>216 Dogwood St, San Francisco, CA 94016</td>\n",
              "    </tr>\n",
              "    <tr>\n",
              "      <th>186847</th>\n",
              "      <td>259355</td>\n",
              "      <td>iPhone</td>\n",
              "      <td>1</td>\n",
              "      <td>700</td>\n",
              "      <td>09/23/19 07:39</td>\n",
              "      <td>220 12th St, San Francisco, CA 94016</td>\n",
              "    </tr>\n",
              "    <tr>\n",
              "      <th>186848</th>\n",
              "      <td>259356</td>\n",
              "      <td>34in Ultrawide Monitor</td>\n",
              "      <td>1</td>\n",
              "      <td>379.99</td>\n",
              "      <td>09/19/19 17:30</td>\n",
              "      <td>511 Forest St, San Francisco, CA 94016</td>\n",
              "    </tr>\n",
              "    <tr>\n",
              "      <th>186849</th>\n",
              "      <td>259357</td>\n",
              "      <td>USB-C Charging Cable</td>\n",
              "      <td>1</td>\n",
              "      <td>11.95</td>\n",
              "      <td>09/30/19 00:18</td>\n",
              "      <td>250 Meadow St, San Francisco, CA 94016</td>\n",
              "    </tr>\n",
              "  </tbody>\n",
              "</table>\n",
              "<p>186850 rows × 6 columns</p>\n",
              "</div>\n",
              "      <button class=\"colab-df-convert\" onclick=\"convertToInteractive('df-851875de-aad7-4627-8c59-9735bda83dde')\"\n",
              "              title=\"Convert this dataframe to an interactive table.\"\n",
              "              style=\"display:none;\">\n",
              "        \n",
              "  <svg xmlns=\"http://www.w3.org/2000/svg\" height=\"24px\"viewBox=\"0 0 24 24\"\n",
              "       width=\"24px\">\n",
              "    <path d=\"M0 0h24v24H0V0z\" fill=\"none\"/>\n",
              "    <path d=\"M18.56 5.44l.94 2.06.94-2.06 2.06-.94-2.06-.94-.94-2.06-.94 2.06-2.06.94zm-11 1L8.5 8.5l.94-2.06 2.06-.94-2.06-.94L8.5 2.5l-.94 2.06-2.06.94zm10 10l.94 2.06.94-2.06 2.06-.94-2.06-.94-.94-2.06-.94 2.06-2.06.94z\"/><path d=\"M17.41 7.96l-1.37-1.37c-.4-.4-.92-.59-1.43-.59-.52 0-1.04.2-1.43.59L10.3 9.45l-7.72 7.72c-.78.78-.78 2.05 0 2.83L4 21.41c.39.39.9.59 1.41.59.51 0 1.02-.2 1.41-.59l7.78-7.78 2.81-2.81c.8-.78.8-2.07 0-2.86zM5.41 20L4 18.59l7.72-7.72 1.47 1.35L5.41 20z\"/>\n",
              "  </svg>\n",
              "      </button>\n",
              "      \n",
              "  <style>\n",
              "    .colab-df-container {\n",
              "      display:flex;\n",
              "      flex-wrap:wrap;\n",
              "      gap: 12px;\n",
              "    }\n",
              "\n",
              "    .colab-df-convert {\n",
              "      background-color: #E8F0FE;\n",
              "      border: none;\n",
              "      border-radius: 50%;\n",
              "      cursor: pointer;\n",
              "      display: none;\n",
              "      fill: #1967D2;\n",
              "      height: 32px;\n",
              "      padding: 0 0 0 0;\n",
              "      width: 32px;\n",
              "    }\n",
              "\n",
              "    .colab-df-convert:hover {\n",
              "      background-color: #E2EBFA;\n",
              "      box-shadow: 0px 1px 2px rgba(60, 64, 67, 0.3), 0px 1px 3px 1px rgba(60, 64, 67, 0.15);\n",
              "      fill: #174EA6;\n",
              "    }\n",
              "\n",
              "    [theme=dark] .colab-df-convert {\n",
              "      background-color: #3B4455;\n",
              "      fill: #D2E3FC;\n",
              "    }\n",
              "\n",
              "    [theme=dark] .colab-df-convert:hover {\n",
              "      background-color: #434B5C;\n",
              "      box-shadow: 0px 1px 3px 1px rgba(0, 0, 0, 0.15);\n",
              "      filter: drop-shadow(0px 1px 2px rgba(0, 0, 0, 0.3));\n",
              "      fill: #FFFFFF;\n",
              "    }\n",
              "  </style>\n",
              "\n",
              "      <script>\n",
              "        const buttonEl =\n",
              "          document.querySelector('#df-851875de-aad7-4627-8c59-9735bda83dde button.colab-df-convert');\n",
              "        buttonEl.style.display =\n",
              "          google.colab.kernel.accessAllowed ? 'block' : 'none';\n",
              "\n",
              "        async function convertToInteractive(key) {\n",
              "          const element = document.querySelector('#df-851875de-aad7-4627-8c59-9735bda83dde');\n",
              "          const dataTable =\n",
              "            await google.colab.kernel.invokeFunction('convertToInteractive',\n",
              "                                                     [key], {});\n",
              "          if (!dataTable) return;\n",
              "\n",
              "          const docLinkHtml = 'Like what you see? Visit the ' +\n",
              "            '<a target=\"_blank\" href=https://colab.research.google.com/notebooks/data_table.ipynb>data table notebook</a>'\n",
              "            + ' to learn more about interactive tables.';\n",
              "          element.innerHTML = '';\n",
              "          dataTable['output_type'] = 'display_data';\n",
              "          await google.colab.output.renderOutput(dataTable, element);\n",
              "          const docLink = document.createElement('div');\n",
              "          docLink.innerHTML = docLinkHtml;\n",
              "          element.appendChild(docLink);\n",
              "        }\n",
              "      </script>\n",
              "    </div>\n",
              "  </div>\n",
              "  "
            ]
          },
          "metadata": {},
          "execution_count": 4
        }
      ]
    },
    {
      "cell_type": "code",
      "source": [
        "ventes.isnull().any(axis=1)"
      ],
      "metadata": {
        "colab": {
          "base_uri": "https://localhost:8080/"
        },
        "id": "MtR8o5gIZ2hc",
        "outputId": "d9355df5-61c8-48f0-818b-5d62bdbe6e91"
      },
      "execution_count": null,
      "outputs": [
        {
          "output_type": "execute_result",
          "data": {
            "text/plain": [
              "0         False\n",
              "1          True\n",
              "2         False\n",
              "3         False\n",
              "4         False\n",
              "          ...  \n",
              "186845    False\n",
              "186846    False\n",
              "186847    False\n",
              "186848    False\n",
              "186849    False\n",
              "Length: 186850, dtype: bool"
            ]
          },
          "metadata": {},
          "execution_count": 8
        }
      ]
    },
    {
      "cell_type": "code",
      "source": [
        "ventes[ventes.isnull().any(axis=1)]"
      ],
      "metadata": {
        "colab": {
          "base_uri": "https://localhost:8080/",
          "height": 424
        },
        "id": "cFUGnc4xaEmJ",
        "outputId": "3b733aa2-8b69-4ce6-a0c8-4a0d42774d80"
      },
      "execution_count": null,
      "outputs": [
        {
          "output_type": "execute_result",
          "data": {
            "text/plain": [
              "       Order ID Product Quantity Ordered Price Each Order Date  \\\n",
              "1           NaN     NaN              NaN        NaN        NaN   \n",
              "356         NaN     NaN              NaN        NaN        NaN   \n",
              "735         NaN     NaN              NaN        NaN        NaN   \n",
              "1433        NaN     NaN              NaN        NaN        NaN   \n",
              "1553        NaN     NaN              NaN        NaN        NaN   \n",
              "...         ...     ...              ...        ...        ...   \n",
              "185176      NaN     NaN              NaN        NaN        NaN   \n",
              "185438      NaN     NaN              NaN        NaN        NaN   \n",
              "186042      NaN     NaN              NaN        NaN        NaN   \n",
              "186548      NaN     NaN              NaN        NaN        NaN   \n",
              "186826      NaN     NaN              NaN        NaN        NaN   \n",
              "\n",
              "       Purchase Address  \n",
              "1                   NaN  \n",
              "356                 NaN  \n",
              "735                 NaN  \n",
              "1433                NaN  \n",
              "1553                NaN  \n",
              "...                 ...  \n",
              "185176              NaN  \n",
              "185438              NaN  \n",
              "186042              NaN  \n",
              "186548              NaN  \n",
              "186826              NaN  \n",
              "\n",
              "[545 rows x 6 columns]"
            ],
            "text/html": [
              "\n",
              "  <div id=\"df-7cedf083-ef6f-4c23-bfe0-a662fece7369\">\n",
              "    <div class=\"colab-df-container\">\n",
              "      <div>\n",
              "<style scoped>\n",
              "    .dataframe tbody tr th:only-of-type {\n",
              "        vertical-align: middle;\n",
              "    }\n",
              "\n",
              "    .dataframe tbody tr th {\n",
              "        vertical-align: top;\n",
              "    }\n",
              "\n",
              "    .dataframe thead th {\n",
              "        text-align: right;\n",
              "    }\n",
              "</style>\n",
              "<table border=\"1\" class=\"dataframe\">\n",
              "  <thead>\n",
              "    <tr style=\"text-align: right;\">\n",
              "      <th></th>\n",
              "      <th>Order ID</th>\n",
              "      <th>Product</th>\n",
              "      <th>Quantity Ordered</th>\n",
              "      <th>Price Each</th>\n",
              "      <th>Order Date</th>\n",
              "      <th>Purchase Address</th>\n",
              "    </tr>\n",
              "  </thead>\n",
              "  <tbody>\n",
              "    <tr>\n",
              "      <th>1</th>\n",
              "      <td>NaN</td>\n",
              "      <td>NaN</td>\n",
              "      <td>NaN</td>\n",
              "      <td>NaN</td>\n",
              "      <td>NaN</td>\n",
              "      <td>NaN</td>\n",
              "    </tr>\n",
              "    <tr>\n",
              "      <th>356</th>\n",
              "      <td>NaN</td>\n",
              "      <td>NaN</td>\n",
              "      <td>NaN</td>\n",
              "      <td>NaN</td>\n",
              "      <td>NaN</td>\n",
              "      <td>NaN</td>\n",
              "    </tr>\n",
              "    <tr>\n",
              "      <th>735</th>\n",
              "      <td>NaN</td>\n",
              "      <td>NaN</td>\n",
              "      <td>NaN</td>\n",
              "      <td>NaN</td>\n",
              "      <td>NaN</td>\n",
              "      <td>NaN</td>\n",
              "    </tr>\n",
              "    <tr>\n",
              "      <th>1433</th>\n",
              "      <td>NaN</td>\n",
              "      <td>NaN</td>\n",
              "      <td>NaN</td>\n",
              "      <td>NaN</td>\n",
              "      <td>NaN</td>\n",
              "      <td>NaN</td>\n",
              "    </tr>\n",
              "    <tr>\n",
              "      <th>1553</th>\n",
              "      <td>NaN</td>\n",
              "      <td>NaN</td>\n",
              "      <td>NaN</td>\n",
              "      <td>NaN</td>\n",
              "      <td>NaN</td>\n",
              "      <td>NaN</td>\n",
              "    </tr>\n",
              "    <tr>\n",
              "      <th>...</th>\n",
              "      <td>...</td>\n",
              "      <td>...</td>\n",
              "      <td>...</td>\n",
              "      <td>...</td>\n",
              "      <td>...</td>\n",
              "      <td>...</td>\n",
              "    </tr>\n",
              "    <tr>\n",
              "      <th>185176</th>\n",
              "      <td>NaN</td>\n",
              "      <td>NaN</td>\n",
              "      <td>NaN</td>\n",
              "      <td>NaN</td>\n",
              "      <td>NaN</td>\n",
              "      <td>NaN</td>\n",
              "    </tr>\n",
              "    <tr>\n",
              "      <th>185438</th>\n",
              "      <td>NaN</td>\n",
              "      <td>NaN</td>\n",
              "      <td>NaN</td>\n",
              "      <td>NaN</td>\n",
              "      <td>NaN</td>\n",
              "      <td>NaN</td>\n",
              "    </tr>\n",
              "    <tr>\n",
              "      <th>186042</th>\n",
              "      <td>NaN</td>\n",
              "      <td>NaN</td>\n",
              "      <td>NaN</td>\n",
              "      <td>NaN</td>\n",
              "      <td>NaN</td>\n",
              "      <td>NaN</td>\n",
              "    </tr>\n",
              "    <tr>\n",
              "      <th>186548</th>\n",
              "      <td>NaN</td>\n",
              "      <td>NaN</td>\n",
              "      <td>NaN</td>\n",
              "      <td>NaN</td>\n",
              "      <td>NaN</td>\n",
              "      <td>NaN</td>\n",
              "    </tr>\n",
              "    <tr>\n",
              "      <th>186826</th>\n",
              "      <td>NaN</td>\n",
              "      <td>NaN</td>\n",
              "      <td>NaN</td>\n",
              "      <td>NaN</td>\n",
              "      <td>NaN</td>\n",
              "      <td>NaN</td>\n",
              "    </tr>\n",
              "  </tbody>\n",
              "</table>\n",
              "<p>545 rows × 6 columns</p>\n",
              "</div>\n",
              "      <button class=\"colab-df-convert\" onclick=\"convertToInteractive('df-7cedf083-ef6f-4c23-bfe0-a662fece7369')\"\n",
              "              title=\"Convert this dataframe to an interactive table.\"\n",
              "              style=\"display:none;\">\n",
              "        \n",
              "  <svg xmlns=\"http://www.w3.org/2000/svg\" height=\"24px\"viewBox=\"0 0 24 24\"\n",
              "       width=\"24px\">\n",
              "    <path d=\"M0 0h24v24H0V0z\" fill=\"none\"/>\n",
              "    <path d=\"M18.56 5.44l.94 2.06.94-2.06 2.06-.94-2.06-.94-.94-2.06-.94 2.06-2.06.94zm-11 1L8.5 8.5l.94-2.06 2.06-.94-2.06-.94L8.5 2.5l-.94 2.06-2.06.94zm10 10l.94 2.06.94-2.06 2.06-.94-2.06-.94-.94-2.06-.94 2.06-2.06.94z\"/><path d=\"M17.41 7.96l-1.37-1.37c-.4-.4-.92-.59-1.43-.59-.52 0-1.04.2-1.43.59L10.3 9.45l-7.72 7.72c-.78.78-.78 2.05 0 2.83L4 21.41c.39.39.9.59 1.41.59.51 0 1.02-.2 1.41-.59l7.78-7.78 2.81-2.81c.8-.78.8-2.07 0-2.86zM5.41 20L4 18.59l7.72-7.72 1.47 1.35L5.41 20z\"/>\n",
              "  </svg>\n",
              "      </button>\n",
              "      \n",
              "  <style>\n",
              "    .colab-df-container {\n",
              "      display:flex;\n",
              "      flex-wrap:wrap;\n",
              "      gap: 12px;\n",
              "    }\n",
              "\n",
              "    .colab-df-convert {\n",
              "      background-color: #E8F0FE;\n",
              "      border: none;\n",
              "      border-radius: 50%;\n",
              "      cursor: pointer;\n",
              "      display: none;\n",
              "      fill: #1967D2;\n",
              "      height: 32px;\n",
              "      padding: 0 0 0 0;\n",
              "      width: 32px;\n",
              "    }\n",
              "\n",
              "    .colab-df-convert:hover {\n",
              "      background-color: #E2EBFA;\n",
              "      box-shadow: 0px 1px 2px rgba(60, 64, 67, 0.3), 0px 1px 3px 1px rgba(60, 64, 67, 0.15);\n",
              "      fill: #174EA6;\n",
              "    }\n",
              "\n",
              "    [theme=dark] .colab-df-convert {\n",
              "      background-color: #3B4455;\n",
              "      fill: #D2E3FC;\n",
              "    }\n",
              "\n",
              "    [theme=dark] .colab-df-convert:hover {\n",
              "      background-color: #434B5C;\n",
              "      box-shadow: 0px 1px 3px 1px rgba(0, 0, 0, 0.15);\n",
              "      filter: drop-shadow(0px 1px 2px rgba(0, 0, 0, 0.3));\n",
              "      fill: #FFFFFF;\n",
              "    }\n",
              "  </style>\n",
              "\n",
              "      <script>\n",
              "        const buttonEl =\n",
              "          document.querySelector('#df-7cedf083-ef6f-4c23-bfe0-a662fece7369 button.colab-df-convert');\n",
              "        buttonEl.style.display =\n",
              "          google.colab.kernel.accessAllowed ? 'block' : 'none';\n",
              "\n",
              "        async function convertToInteractive(key) {\n",
              "          const element = document.querySelector('#df-7cedf083-ef6f-4c23-bfe0-a662fece7369');\n",
              "          const dataTable =\n",
              "            await google.colab.kernel.invokeFunction('convertToInteractive',\n",
              "                                                     [key], {});\n",
              "          if (!dataTable) return;\n",
              "\n",
              "          const docLinkHtml = 'Like what you see? Visit the ' +\n",
              "            '<a target=\"_blank\" href=https://colab.research.google.com/notebooks/data_table.ipynb>data table notebook</a>'\n",
              "            + ' to learn more about interactive tables.';\n",
              "          element.innerHTML = '';\n",
              "          dataTable['output_type'] = 'display_data';\n",
              "          await google.colab.output.renderOutput(dataTable, element);\n",
              "          const docLink = document.createElement('div');\n",
              "          docLink.innerHTML = docLinkHtml;\n",
              "          element.appendChild(docLink);\n",
              "        }\n",
              "      </script>\n",
              "    </div>\n",
              "  </div>\n",
              "  "
            ]
          },
          "metadata": {},
          "execution_count": 9
        }
      ]
    },
    {
      "cell_type": "markdown",
      "source": [
        "# Suggestions de Projets\n",
        "\n",
        "## Vision par ordinateur\n",
        "- Assistance à la vision pour aveugle dans les lieux publics (car detection) 2\n",
        "- Detection immédiate des accidents et appel des pompiers ou un proche ( Détection des accidents )   7\n",
        "- Animal count 2\n",
        "- Detection du somnolance 7\n",
        "\n",
        "\n",
        "\n",
        " ## Traitement du langage naturel\n",
        " - text urgent ou pas 3\n",
        " - detection du harcèlement sur les réseaux 8\n",
        " - Message de secours ou pas 5\n",
        " - tri de CV\n",
        " - Interpretation du langage des signes\n",
        " - Lecture des textes dans les documents\n",
        "\n",
        "\n",
        "\n",
        " # Projets Votés\n",
        "\n",
        " - Détection des accidents  Equipe A - Doris\n",
        " - Detection de la somnolance Equipe B - Alimatou\n",
        "\n"
      ],
      "metadata": {
        "id": "_SV9yfFajHnC"
      }
    },
    {
      "cell_type": "markdown",
      "source": [
        "# Etapes du Projet\n",
        "\n",
        " - Collecte des données 1h  11h40 - 12H40\n",
        " - Nettoyage et analyse de la donnée 30 min  12h-40 13H10\n",
        " - Choix du modèle (basique ou pré-entrainé) 30 min  14h - 14h 30\n",
        " - Entrainement du modèle 45 minutes     14h30 - 15h15\n",
        " - Evaluer le modèle  10 min    15h15 - 15h25\n",
        " - Sauvegarder le modèle 5 min  15h25 - 15h30\n",
        " - Création de l'application Web avec Streamlit 1h  15h30 - 16h30\n",
        " - Intégrer le modèle dans l'application 30  16h 30 - 17H\n",
        " - Démo de l'application   1 min\n",
        "\n",
        " 16h 45    \n"
      ],
      "metadata": {
        "id": "qg8nuEqezMuO"
      }
    },
    {
      "cell_type": "code",
      "source": [
        "kayveendegila@gmail.com"
      ],
      "metadata": {
        "id": "1J3dO5yWg5Os"
      },
      "execution_count": null,
      "outputs": []
    },
    {
      "cell_type": "code",
      "source": [],
      "metadata": {
        "id": "Y6QgYUe_g45Z"
      },
      "execution_count": null,
      "outputs": []
    },
    {
      "cell_type": "code",
      "source": [
        "@d1g1t@l_2021"
      ],
      "metadata": {
        "id": "HjQ059e-aXhX"
      },
      "execution_count": null,
      "outputs": []
    },
    {
      "cell_type": "markdown",
      "source": [
        "Entrainement\n",
        "\n",
        "data\n",
        "- train\n",
        "        - class A  40\n",
        "        -class B 40\n",
        "- test\n",
        "          - class A  10\n",
        "          - Class B  10"
      ],
      "metadata": {
        "id": "r-VPVZgAbh67"
      }
    },
    {
      "cell_type": "code",
      "source": [],
      "metadata": {
        "id": "UNZvCKIShmf4"
      },
      "execution_count": null,
      "outputs": []
    },
    {
      "cell_type": "markdown",
      "source": [
        "# Entrainement du modèle\n"
      ],
      "metadata": {
        "id": "2CDoCyqQjh31"
      }
    },
    {
      "cell_type": "markdown",
      "source": [
        "Importer la donnée"
      ],
      "metadata": {
        "id": "sBcp6X9zk5cq"
      }
    },
    {
      "cell_type": "code",
      "source": [],
      "metadata": {
        "id": "u-SkUcZtjhPZ"
      },
      "execution_count": null,
      "outputs": []
    },
    {
      "cell_type": "code",
      "source": [
        "from google.colab import drive\n",
        "drive.mount('/gdrive')"
      ],
      "metadata": {
        "colab": {
          "base_uri": "https://localhost:8080/"
        },
        "id": "GWlMVD02lmYz",
        "outputId": "f1c6427b-f2a6-4195-863b-35957a2e5438"
      },
      "execution_count": null,
      "outputs": [
        {
          "output_type": "stream",
          "name": "stdout",
          "text": [
            "Drive already mounted at /gdrive; to attempt to forcibly remount, call drive.mount(\"/gdrive\", force_remount=True).\n"
          ]
        }
      ]
    },
    {
      "cell_type": "code",
      "source": [
        "!ls \"/gdrive/MyDrive/Colab Notebooks/data/train/danger\""
      ],
      "metadata": {
        "colab": {
          "base_uri": "https://localhost:8080/"
        },
        "id": "ACcQpMZJmFAz",
        "outputId": "b8936ef5-be72-4c44-a894-bdca90e91b77"
      },
      "execution_count": null,
      "outputs": [
        {
          "output_type": "stream",
          "name": "stdout",
          "text": [
            "image00004.jpeg  image00031.jpeg  image00052.jpeg  image00062.jpeg\n",
            "image00006.jpeg  image00039.jpeg  image00054.jpeg  image00066.jpeg\n",
            "image00009.jpeg  image00043.jpeg  image00055.jpeg  image00075.jpeg\n",
            "image00011.jpeg  image00047.jpeg  image00058.jpeg  image00077.jpeg\n",
            "image00013.jpeg  image00050.jpeg  image00061.jpeg  image00079.jpeg\n"
          ]
        }
      ]
    },
    {
      "cell_type": "code",
      "source": [
        "!ls \"/gdrive/MyDrive/Colab Notebooks/data\""
      ],
      "metadata": {
        "colab": {
          "base_uri": "https://localhost:8080/"
        },
        "id": "hPeaRYMMhmoX",
        "outputId": "a22d71cc-b9c0-49f3-dce0-648410dccdcf"
      },
      "execution_count": null,
      "outputs": [
        {
          "output_type": "stream",
          "name": "stdout",
          "text": [
            "test  train\n"
          ]
        }
      ]
    },
    {
      "cell_type": "markdown",
      "source": [
        "Entrainer le modèle"
      ],
      "metadata": {
        "id": "bKVYAWdAnHP5"
      }
    },
    {
      "cell_type": "code",
      "source": [],
      "metadata": {
        "id": "phecP2sghmsG"
      },
      "execution_count": null,
      "outputs": []
    },
    {
      "cell_type": "code",
      "source": [],
      "metadata": {
        "id": "TEGIovILhmvv"
      },
      "execution_count": null,
      "outputs": []
    },
    {
      "cell_type": "code",
      "source": [],
      "metadata": {
        "id": "XBvkfCHahmzw"
      },
      "execution_count": null,
      "outputs": []
    },
    {
      "cell_type": "code",
      "source": [
        "import tensorflow as tf"
      ],
      "metadata": {
        "id": "ry7AzLvLnXRg"
      },
      "execution_count": null,
      "outputs": []
    },
    {
      "cell_type": "code",
      "source": [
        "from tensorflow.keras.preprocessing.image import img_to_array, load_img\n",
        "from tensorflow.keras.preprocessing.image import ImageDataGenerator\n",
        "from tensorflow.keras.models import Model\n",
        "from tensorflow.keras.layers import Input, Flatten, Dense, Dropout, GlobalAveragePooling2D\n",
        "from tensorflow.keras.applications.mobilenet import MobileNet, preprocess_input\n",
        "from tensorflow.keras.applications.vgg16 import VGG16, preprocess_input\n",
        "import math"
      ],
      "metadata": {
        "id": "M4fs4gytaUth"
      },
      "execution_count": null,
      "outputs": []
    },
    {
      "cell_type": "code",
      "source": [
        "import tensorflow as tf\n",
        "tf.__version__"
      ],
      "metadata": {
        "colab": {
          "base_uri": "https://localhost:8080/",
          "height": 35
        },
        "id": "7Tme034a-DWz",
        "outputId": "c59f893a-9648-4539-94ca-d75f93430c68"
      },
      "execution_count": null,
      "outputs": [
        {
          "output_type": "execute_result",
          "data": {
            "text/plain": [
              "'2.11.0'"
            ],
            "application/vnd.google.colaboratory.intrinsic+json": {
              "type": "string"
            }
          },
          "metadata": {},
          "execution_count": 74
        }
      ]
    },
    {
      "cell_type": "code",
      "source": [
        "import os"
      ],
      "metadata": {
        "id": "cX9Ms4PNnhSX"
      },
      "execution_count": null,
      "outputs": []
    },
    {
      "cell_type": "code",
      "source": [
        "len(os.listdir(\"/gdrive/MyDrive/Colab Notebooks/data/train/danger\"))"
      ],
      "metadata": {
        "colab": {
          "base_uri": "https://localhost:8080/"
        },
        "id": "wlLLImkVyYr1",
        "outputId": "085ece29-4bcc-4214-9ef9-c346af59700f"
      },
      "execution_count": null,
      "outputs": [
        {
          "output_type": "execute_result",
          "data": {
            "text/plain": [
              "20"
            ]
          },
          "metadata": {},
          "execution_count": 51
        }
      ]
    },
    {
      "cell_type": "code",
      "source": [
        "len(os.listdir(\"/gdrive/MyDrive/Colab Notebooks/data/train/normal\"))"
      ],
      "metadata": {
        "colab": {
          "base_uri": "https://localhost:8080/"
        },
        "id": "voCtC_hYyjvb",
        "outputId": "cde28d83-698c-41ed-a0f5-8d902331d8be"
      },
      "execution_count": null,
      "outputs": [
        {
          "output_type": "execute_result",
          "data": {
            "text/plain": [
              "27"
            ]
          },
          "metadata": {},
          "execution_count": 52
        }
      ]
    },
    {
      "cell_type": "code",
      "source": [],
      "metadata": {
        "id": "2YLga_dOnhpI"
      },
      "execution_count": null,
      "outputs": []
    },
    {
      "cell_type": "code",
      "source": [
        "TRAIN_DATA_DIR = \"/gdrive/MyDrive/Colab Notebooks/data/train\"\n",
        "VALIDATION_DATA_DIR = \"/gdrive/MyDrive/Colab Notebooks/data/test\"\n",
        "TRAIN_SAMPLES = 20\n",
        "VALIDATION_SAMPLES = 5\n",
        "NUM_CLASSES = 2\n",
        "IMG_WIDTH, IMG_HEIGHT = 224, 224\n",
        "BATCH_SIZE = 40"
      ],
      "metadata": {
        "id": "bOxIyhOaaU3J"
      },
      "execution_count": null,
      "outputs": []
    },
    {
      "cell_type": "code",
      "source": [
        "train_datagen =ImageDataGenerator(preprocessing_function=preprocess_input,\n",
        "                  rotation_range=20,\n",
        "                  width_shift_range=0.2,\n",
        "                  height_shift_range=0.2,\n",
        "                  zoom_range=0.2)"
      ],
      "metadata": {
        "id": "5WR_VhliaU99"
      },
      "execution_count": null,
      "outputs": []
    },
    {
      "cell_type": "code",
      "source": [
        "val_datagen = ImageDataGenerator(preprocessing_function=preprocess_input)"
      ],
      "metadata": {
        "id": "af8R6Z_daVDk"
      },
      "execution_count": null,
      "outputs": []
    },
    {
      "cell_type": "code",
      "source": [
        "train_generator = train_datagen.flow_from_directory(\n",
        "                  TRAIN_DATA_DIR,\n",
        "                  target_size=(IMG_WIDTH, IMG_HEIGHT),\n",
        "                  batch_size=BATCH_SIZE,\n",
        "                  shuffle=True,\n",
        "                  seed=12345,\n",
        "                  class_mode='categorical')\n",
        "\n",
        "\n",
        "validation_generator = val_datagen.flow_from_directory(\n",
        "          VALIDATION_DATA_DIR,\n",
        "          target_size=(IMG_WIDTH, IMG_HEIGHT),\n",
        "          batch_size=BATCH_SIZE,\n",
        "          shuffle=False,\n",
        "          class_mode='categorical')"
      ],
      "metadata": {
        "colab": {
          "base_uri": "https://localhost:8080/"
        },
        "id": "IsiDnK7HaVIb",
        "outputId": "ee08cee6-f69c-4066-bc89-62297131769e"
      },
      "execution_count": null,
      "outputs": [
        {
          "output_type": "stream",
          "name": "stdout",
          "text": [
            "Found 47 images belonging to 2 classes.\n",
            "Found 10 images belonging to 2 classes.\n"
          ]
        }
      ]
    },
    {
      "cell_type": "code",
      "source": [],
      "metadata": {
        "id": "teSPwgN4q-hD"
      },
      "execution_count": null,
      "outputs": []
    },
    {
      "cell_type": "code",
      "source": [],
      "metadata": {
        "id": "ltXjBPz5q-l-"
      },
      "execution_count": null,
      "outputs": []
    },
    {
      "cell_type": "code",
      "source": [
        "def model_maker():\n",
        "  base_model = VGG16(include_top=False, input_shape =(IMG_WIDTH,IMG_HEIGHT,3))\n",
        "  for layer in base_model.layers[:]:\n",
        "    layer.trainable = False # Freeze the layers\n",
        "  input = Input(shape=(IMG_WIDTH, IMG_HEIGHT, 3))\n",
        "  custom_model = base_model(input)\n",
        "  custom_model = GlobalAveragePooling2D()(custom_model)\n",
        "  custom_model = Dense(64, activation='relu')(custom_model)\n",
        "  custom_model = Dense(32, activation='relu')(custom_model)\n",
        "  custom_model = Dropout(0.5)(custom_model)\n",
        "  predictions = Dense(NUM_CLASSES, activation='softmax')(custom_model)\n",
        "  return Model(inputs=input, outputs=predictions)"
      ],
      "metadata": {
        "id": "94lydcMIavf3"
      },
      "execution_count": null,
      "outputs": []
    },
    {
      "cell_type": "code",
      "source": [
        "model = model_maker()\n",
        "model.compile(loss='categorical_crossentropy', optimizer= tf.optimizers.Adam(learning_rate=0.001), metrics=['accuracy'])\n",
        "num_steps = math.ceil(float(TRAIN_SAMPLES)/BATCH_SIZE)\n",
        "model.fit(train_generator,\n",
        "                    steps_per_epoch = num_steps,\n",
        "                    epochs=10,\n",
        "                    validation_data = validation_generator,\n",
        "                    validation_steps = num_steps)"
      ],
      "metadata": {
        "colab": {
          "base_uri": "https://localhost:8080/"
        },
        "id": "7Qgs5lg-avmk",
        "outputId": "c87a656a-9c46-4bcb-953e-bbf0672d7521"
      },
      "execution_count": null,
      "outputs": [
        {
          "output_type": "stream",
          "name": "stdout",
          "text": [
            "Epoch 1/10\n",
            "1/1 [==============================] - 51s 51s/step - loss: 7.5562 - accuracy: 0.5000 - val_loss: 3.3605 - val_accuracy: 0.5000\n",
            "Epoch 2/10\n",
            "1/1 [==============================] - 19s 19s/step - loss: 2.1010 - accuracy: 0.7143 - val_loss: 1.1146 - val_accuracy: 0.6000\n",
            "Epoch 3/10\n",
            "1/1 [==============================] - 28s 28s/step - loss: 1.9172 - accuracy: 0.5714 - val_loss: 1.3134 - val_accuracy: 0.7000\n",
            "Epoch 4/10\n",
            "1/1 [==============================] - 28s 28s/step - loss: 1.3000 - accuracy: 0.5714 - val_loss: 2.9761 - val_accuracy: 0.5000\n",
            "Epoch 5/10\n",
            "1/1 [==============================] - 28s 28s/step - loss: 4.2069 - accuracy: 0.4286 - val_loss: 3.9220 - val_accuracy: 0.5000\n",
            "Epoch 6/10\n",
            "1/1 [==============================] - 29s 29s/step - loss: 1.7567 - accuracy: 0.8571 - val_loss: 4.3179 - val_accuracy: 0.5000\n",
            "Epoch 7/10\n",
            "1/1 [==============================] - 42s 42s/step - loss: 4.1667 - accuracy: 0.4250 - val_loss: 3.7467 - val_accuracy: 0.5000\n",
            "Epoch 8/10\n",
            "1/1 [==============================] - 41s 41s/step - loss: 3.2173 - accuracy: 0.5250 - val_loss: 2.7307 - val_accuracy: 0.5000\n",
            "Epoch 9/10\n",
            "1/1 [==============================] - 29s 29s/step - loss: 0.2204 - accuracy: 0.8571 - val_loss: 1.8523 - val_accuracy: 0.5000\n",
            "Epoch 10/10\n",
            "1/1 [==============================] - 29s 29s/step - loss: 2.8050 - accuracy: 0.2857 - val_loss: 1.2568 - val_accuracy: 0.7000\n"
          ]
        },
        {
          "output_type": "execute_result",
          "data": {
            "text/plain": [
              "<keras.callbacks.History at 0x7f53b58436d0>"
            ]
          },
          "metadata": {},
          "execution_count": 58
        }
      ]
    },
    {
      "cell_type": "code",
      "source": [
        "model.evaluate(validation_generator)"
      ],
      "metadata": {
        "colab": {
          "base_uri": "https://localhost:8080/"
        },
        "id": "DSePQcePvM6o",
        "outputId": "c3ab986f-55bb-4ddb-9d93-da37d32ee507"
      },
      "execution_count": null,
      "outputs": [
        {
          "output_type": "stream",
          "name": "stdout",
          "text": [
            "1/1 [==============================] - 9s 9s/step - loss: 1.2568 - accuracy: 0.7000\n"
          ]
        },
        {
          "output_type": "execute_result",
          "data": {
            "text/plain": [
              "[1.256823182106018, 0.699999988079071]"
            ]
          },
          "metadata": {},
          "execution_count": 59
        }
      ]
    },
    {
      "cell_type": "code",
      "source": [
        "!ls '/gdrive/MyDrive/Colab Notebooks/data'"
      ],
      "metadata": {
        "colab": {
          "base_uri": "https://localhost:8080/"
        },
        "id": "ydK54rus0_K0",
        "outputId": "83f6d4b3-8639-429b-e84d-8a691259deb7"
      },
      "execution_count": null,
      "outputs": [
        {
          "output_type": "stream",
          "name": "stdout",
          "text": [
            "model.h5  test\ttrain\n"
          ]
        }
      ]
    },
    {
      "cell_type": "code",
      "source": [
        "model.save('/gdrive/MyDrive/Colab Notebooks/data/model.h5')"
      ],
      "metadata": {
        "id": "4JOi3zq5avrv"
      },
      "execution_count": null,
      "outputs": []
    },
    {
      "cell_type": "code",
      "source": [
        "70%"
      ],
      "metadata": {
        "id": "uURvx9ok1VT_"
      },
      "execution_count": null,
      "outputs": []
    },
    {
      "cell_type": "code",
      "source": [
        "!ls '/gdrive/MyDrive/Colab Notebooks/data'"
      ],
      "metadata": {
        "id": "IJ_CHb0G1VbP"
      },
      "execution_count": null,
      "outputs": []
    },
    {
      "cell_type": "code",
      "source": [],
      "metadata": {
        "id": "S5mnfdbF1VgV"
      },
      "execution_count": null,
      "outputs": []
    },
    {
      "cell_type": "code",
      "source": [],
      "metadata": {
        "id": "_fUYllpb1Vk2"
      },
      "execution_count": null,
      "outputs": []
    },
    {
      "cell_type": "code",
      "source": [
        "from tensorflow.keras.models import load_model\n",
        "model = load_model('model.h5')"
      ],
      "metadata": {
        "id": "RbO9TozpavyC"
      },
      "execution_count": null,
      "outputs": []
    },
    {
      "cell_type": "code",
      "source": [
        "from PIL import Image\n",
        "import numpy as np"
      ],
      "metadata": {
        "id": "Rg3rbEmP1_Jn"
      },
      "execution_count": null,
      "outputs": []
    },
    {
      "cell_type": "code",
      "source": [
        "img_path = 'som.jpg'\n",
        "img = load_img(img_path, target_size=(224,224))\n",
        "img_array = img_to_array(img)\n",
        "expanded_img_array = np.expand_dims(img_array, axis=0)\n",
        "preprocessed_img = preprocess_input(expanded_img_array) # Preprocess the image\n",
        "prediction = model.predict(preprocessed_img)\n",
        "print(prediction)"
      ],
      "metadata": {
        "colab": {
          "base_uri": "https://localhost:8080/"
        },
        "id": "J694h-QDav4S",
        "outputId": "28783ea3-a9fe-44b3-efca-590e57fadc3b"
      },
      "execution_count": null,
      "outputs": [
        {
          "output_type": "stream",
          "name": "stdout",
          "text": [
            "1/1 [==============================] - 2s 2s/step\n",
            "[[0.71394354 0.2860565 ]]\n"
          ]
        }
      ]
    },
    {
      "cell_type": "code",
      "source": [
        "prediction[0][1]"
      ],
      "metadata": {
        "colab": {
          "base_uri": "https://localhost:8080/"
        },
        "id": "Ma2kliuq8aJP",
        "outputId": "7b892600-9800-4535-d781-9fc350a0b0b6"
      },
      "execution_count": null,
      "outputs": [
        {
          "output_type": "execute_result",
          "data": {
            "text/plain": [
              "0.2860565"
            ]
          },
          "metadata": {},
          "execution_count": 73
        }
      ]
    },
    {
      "cell_type": "code",
      "source": [
        "round(prediction[0][1], 2)"
      ],
      "metadata": {
        "id": "SI0abW1F_jGL",
        "outputId": "87ebadeb-a5f3-4c96-ba48-17ea03a94b6a",
        "colab": {
          "base_uri": "https://localhost:8080/"
        }
      },
      "execution_count": null,
      "outputs": [
        {
          "output_type": "execute_result",
          "data": {
            "text/plain": [
              "0.29"
            ]
          },
          "metadata": {},
          "execution_count": 75
        }
      ]
    },
    {
      "cell_type": "code",
      "source": [
        "print(validation_generator.class_indices)\n"
      ],
      "metadata": {
        "colab": {
          "base_uri": "https://localhost:8080/"
        },
        "id": "NGe_cRag27RC",
        "outputId": "0e9d33c2-ceea-4016-c259-c86067053863"
      },
      "execution_count": null,
      "outputs": [
        {
          "output_type": "stream",
          "name": "stdout",
          "text": [
            "{'danger': 0, 'normal': 1}\n"
          ]
        }
      ]
    },
    {
      "cell_type": "code",
      "source": [
        "danger 0   0.28            0.5                 normal 1"
      ],
      "metadata": {
        "id": "lKFJ-w-135Qd"
      },
      "execution_count": null,
      "outputs": []
    },
    {
      "cell_type": "code",
      "source": [
        "danger  ------------72%\n",
        "normal ------------- 28%"
      ],
      "metadata": {
        "id": "ro9Nzzmg3ZxT"
      },
      "execution_count": null,
      "outputs": []
    }
  ]
}